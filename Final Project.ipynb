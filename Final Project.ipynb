{
 "cells": [
  {
   "cell_type": "markdown",
   "metadata": {},
   "source": [
    "# DSC 478 Final Project: \n",
    "# Predicting whether or not a NBA player will be in the Hall Of Fame\n",
    "## Matt Watson"
   ]
  },
  {
   "cell_type": "markdown",
   "metadata": {},
   "source": [
    "### Introduction"
   ]
  },
  {
   "cell_type": "markdown",
   "metadata": {},
   "source": [
    "For this project, I will be using a dataset from SLAM Magazine in 2011 in which they ranked the top 500 greatest NBA Players of all time to try to predict whether a player will be in the Hall of Fame or not. The data can be found here: https://www.basketball-reference.com/awards/slam_500_greatest.html.\n",
    "\n",
    "The data contains 16 variables: Rank, Player (Name), From (first year in NBA), To (last year in NBA), G (Total Games Played), MP (average minutes per game), PTS (average points per game), TRB (average total rebounds per game), AST (average assists per game), STL (average steals per game), BLK (average blocks per game), FG% (average field goal percentage per game), 3P% (average 3 point percentage per game), FT% (average free throw percentage per game), WS (total Win Shares) and WS/48 (win shares per 48 minutes). Steals and Blocks were not recorded until the 1973 season and the 3-point line was not introduced until the 1979 season, so there are some missing values since the data includes players starting in the year 1947. I will create a \"Position\" variable and then convert the missing values to the median value for that position. Grouping by position makes sense, as Guards are more likely to average a higher number of steals and 3-point field goal percentage while Forwards/Centers are more likely to average a higher number of blocks. Next, I will create a new variable call \"Years Played\" which will be the difference between \"To\" and \"From\". Lastly, I will need to add a Hall of Fame Variable, \"HoF\", which will be binary with 0 representing not in the HoF and 1 representing in the HoF. In order to be eligible for the NBA Hall of Fame, you must have been retired for at least 3 full seasons. Since I downloaded this data before the 2019 season started in October, any player who is still active or retired after the 2016 season was not eligible. I will subset this data to use for predicting probabilities of entering the Hall of Fame. \n",
    "\n",
    "I will first run some Exploratory Data Analysis (EDA) to get some general ideas about the data. I will look at the distributions of all the variables as well as produce some Boxplots for \"HoF\" and a few other variables. I will then create a Logistic Regression model trying to predict \"HoF\" based on the other variables. I will then use this model to predict the probabilities of entering the Hall of Fame for the players who are not currently eligible. Next, I will run a K-Nearest Neighbors (KNN) model with cross validation and assign probabilities for the ineligible players. I will then run a Principal Component Analysis to decrease dimensionality. I will then run the Logistic Regression Model as well as the KNN model again using the components created from PCA."
   ]
  },
  {
   "cell_type": "markdown",
   "metadata": {},
   "source": [
    "### Packages that will be used:"
   ]
  },
  {
   "cell_type": "code",
   "execution_count": 1,
   "metadata": {},
   "outputs": [],
   "source": [
    "import pandas as pd\n",
    "import matplotlib.pyplot as plt\n",
    "from sklearn.linear_model import LogisticRegression\n",
    "from sklearn.model_selection import train_test_split\n",
    "from sklearn.metrics import classification_report, confusion_matrix\n",
    "from sklearn import preprocessing, neighbors, decomposition, model_selection\n",
    "import numpy as np"
   ]
  },
  {
   "cell_type": "markdown",
   "metadata": {},
   "source": [
    "### Data Cleaning"
   ]
  },
  {
   "cell_type": "code",
   "execution_count": 2,
   "metadata": {},
   "outputs": [
    {
     "name": "stdout",
     "output_type": "stream",
     "text": [
      "<class 'pandas.core.frame.DataFrame'>\n",
      "RangeIndex: 500 entries, 0 to 499\n",
      "Data columns (total 16 columns):\n",
      "Rank      500 non-null int64\n",
      "Player    500 non-null object\n",
      "From      500 non-null int64\n",
      "To        500 non-null int64\n",
      "G         500 non-null int64\n",
      "MP        500 non-null float64\n",
      "PTS       500 non-null float64\n",
      "TRB       500 non-null float64\n",
      "AST       500 non-null float64\n",
      "STL       433 non-null float64\n",
      "BLK       433 non-null float64\n",
      "FG%       500 non-null float64\n",
      "3P%       379 non-null float64\n",
      "FT%       500 non-null float64\n",
      "WS        500 non-null float64\n",
      "WS/48     500 non-null float64\n",
      "dtypes: float64(11), int64(4), object(1)\n",
      "memory usage: 62.6+ KB\n"
     ]
    },
    {
     "data": {
      "text/html": [
       "<div>\n",
       "<style scoped>\n",
       "    .dataframe tbody tr th:only-of-type {\n",
       "        vertical-align: middle;\n",
       "    }\n",
       "\n",
       "    .dataframe tbody tr th {\n",
       "        vertical-align: top;\n",
       "    }\n",
       "\n",
       "    .dataframe thead th {\n",
       "        text-align: right;\n",
       "    }\n",
       "</style>\n",
       "<table border=\"1\" class=\"dataframe\">\n",
       "  <thead>\n",
       "    <tr style=\"text-align: right;\">\n",
       "      <th></th>\n",
       "      <th>Rank</th>\n",
       "      <th>Player</th>\n",
       "      <th>From</th>\n",
       "      <th>To</th>\n",
       "      <th>G</th>\n",
       "      <th>MP</th>\n",
       "      <th>PTS</th>\n",
       "      <th>TRB</th>\n",
       "      <th>AST</th>\n",
       "      <th>STL</th>\n",
       "      <th>BLK</th>\n",
       "      <th>FG%</th>\n",
       "      <th>3P%</th>\n",
       "      <th>FT%</th>\n",
       "      <th>WS</th>\n",
       "      <th>WS/48</th>\n",
       "    </tr>\n",
       "  </thead>\n",
       "  <tbody>\n",
       "    <tr>\n",
       "      <th>495</th>\n",
       "      <td>496</td>\n",
       "      <td>Kevin Duckworth</td>\n",
       "      <td>1987</td>\n",
       "      <td>1997</td>\n",
       "      <td>684</td>\n",
       "      <td>25.5</td>\n",
       "      <td>11.8</td>\n",
       "      <td>5.8</td>\n",
       "      <td>0.9</td>\n",
       "      <td>0.5</td>\n",
       "      <td>0.5</td>\n",
       "      <td>0.468</td>\n",
       "      <td>0.208</td>\n",
       "      <td>0.736</td>\n",
       "      <td>24.7</td>\n",
       "      <td>0.068</td>\n",
       "    </tr>\n",
       "    <tr>\n",
       "      <th>496</th>\n",
       "      <td>497</td>\n",
       "      <td>Chris Kaman</td>\n",
       "      <td>2004</td>\n",
       "      <td>2016</td>\n",
       "      <td>735</td>\n",
       "      <td>26.7</td>\n",
       "      <td>11.2</td>\n",
       "      <td>7.6</td>\n",
       "      <td>1.3</td>\n",
       "      <td>0.4</td>\n",
       "      <td>1.3</td>\n",
       "      <td>0.489</td>\n",
       "      <td>0.042</td>\n",
       "      <td>0.743</td>\n",
       "      <td>24.6</td>\n",
       "      <td>0.060</td>\n",
       "    </tr>\n",
       "    <tr>\n",
       "      <th>497</th>\n",
       "      <td>498</td>\n",
       "      <td>Cuttino Mobley</td>\n",
       "      <td>1999</td>\n",
       "      <td>2009</td>\n",
       "      <td>747</td>\n",
       "      <td>37.0</td>\n",
       "      <td>16.0</td>\n",
       "      <td>3.9</td>\n",
       "      <td>2.7</td>\n",
       "      <td>1.2</td>\n",
       "      <td>0.4</td>\n",
       "      <td>0.433</td>\n",
       "      <td>0.378</td>\n",
       "      <td>0.835</td>\n",
       "      <td>52.2</td>\n",
       "      <td>0.091</td>\n",
       "    </tr>\n",
       "    <tr>\n",
       "      <th>498</th>\n",
       "      <td>499</td>\n",
       "      <td>David Wesley</td>\n",
       "      <td>1994</td>\n",
       "      <td>2007</td>\n",
       "      <td>949</td>\n",
       "      <td>31.9</td>\n",
       "      <td>12.5</td>\n",
       "      <td>2.5</td>\n",
       "      <td>4.4</td>\n",
       "      <td>1.3</td>\n",
       "      <td>0.2</td>\n",
       "      <td>0.424</td>\n",
       "      <td>0.368</td>\n",
       "      <td>0.786</td>\n",
       "      <td>61.3</td>\n",
       "      <td>0.097</td>\n",
       "    </tr>\n",
       "    <tr>\n",
       "      <th>499</th>\n",
       "      <td>500</td>\n",
       "      <td>Pervis Ellison</td>\n",
       "      <td>1990</td>\n",
       "      <td>2001</td>\n",
       "      <td>474</td>\n",
       "      <td>24.5</td>\n",
       "      <td>9.5</td>\n",
       "      <td>6.7</td>\n",
       "      <td>1.5</td>\n",
       "      <td>0.6</td>\n",
       "      <td>1.6</td>\n",
       "      <td>0.510</td>\n",
       "      <td>0.050</td>\n",
       "      <td>0.689</td>\n",
       "      <td>21.8</td>\n",
       "      <td>0.090</td>\n",
       "    </tr>\n",
       "  </tbody>\n",
       "</table>\n",
       "</div>"
      ],
      "text/plain": [
       "     Rank           Player  From    To    G    MP   PTS  TRB  AST  STL  BLK  \\\n",
       "495   496  Kevin Duckworth  1987  1997  684  25.5  11.8  5.8  0.9  0.5  0.5   \n",
       "496   497      Chris Kaman  2004  2016  735  26.7  11.2  7.6  1.3  0.4  1.3   \n",
       "497   498   Cuttino Mobley  1999  2009  747  37.0  16.0  3.9  2.7  1.2  0.4   \n",
       "498   499     David Wesley  1994  2007  949  31.9  12.5  2.5  4.4  1.3  0.2   \n",
       "499   500  Pervis Ellison   1990  2001  474  24.5   9.5  6.7  1.5  0.6  1.6   \n",
       "\n",
       "       FG%    3P%    FT%    WS  WS/48  \n",
       "495  0.468  0.208  0.736  24.7  0.068  \n",
       "496  0.489  0.042  0.743  24.6  0.060  \n",
       "497  0.433  0.378  0.835  52.2  0.091  \n",
       "498  0.424  0.368  0.786  61.3  0.097  \n",
       "499  0.510  0.050  0.689  21.8  0.090  "
      ]
     },
     "execution_count": 2,
     "metadata": {},
     "output_type": "execute_result"
    }
   ],
   "source": [
    "data = pd.read_csv(\"data.csv\")\n",
    "data.info()\n",
    "data.tail()"
   ]
  },
  {
   "cell_type": "markdown",
   "metadata": {},
   "source": [
    "Here we can see a few things. There are 67 missing values for both \"STL\" and \"BLK\". There are also 121 missing values for \"3P%\". All of these missing values will be replaced with median value based on the \"Position\" value that will be added below. There are also 501 entries when there should only be 500. This is a result of the way the data was downloaded to a \".csv\" file. The first row was skipped and the headers were in the 2nd row, so I edited the file to move the headers into the first row. I will need to delete the last row. "
   ]
  },
  {
   "cell_type": "code",
   "execution_count": 3,
   "metadata": {},
   "outputs": [
    {
     "name": "stdout",
     "output_type": "stream",
     "text": [
      "              Rank         Player         From           To            G  \\\n",
      "count   499.000000            499   499.000000   499.000000   499.000000   \n",
      "unique         NaN            498          NaN          NaN          NaN   \n",
      "top            NaN  Eddie Johnson          NaN          NaN          NaN   \n",
      "freq           NaN              2          NaN          NaN          NaN   \n",
      "mean    250.000000            NaN  1980.915832  1992.545090   839.160321   \n",
      "std     144.193157            NaN    14.757917    16.346139   241.805812   \n",
      "min       1.000000            NaN  1947.000000  1954.000000   260.000000   \n",
      "25%     125.500000            NaN  1971.000000  1980.000000   681.500000   \n",
      "50%     250.000000            NaN  1982.000000  1993.000000   833.000000   \n",
      "75%     374.500000            NaN  1992.000000  2005.000000   983.500000   \n",
      "max     499.000000            NaN  2006.000000  2019.000000  1611.000000   \n",
      "\n",
      "                MP         PTS         TRB         AST         STL  \\\n",
      "count   499.000000  499.000000  499.000000  499.000000  432.000000   \n",
      "unique         NaN         NaN         NaN         NaN         NaN   \n",
      "top            NaN         NaN         NaN         NaN         NaN   \n",
      "freq           NaN         NaN         NaN         NaN         NaN   \n",
      "mean     30.515631   14.721042    5.941483    3.212425    1.047222   \n",
      "std       4.039931    4.165817    3.040652    1.829896    0.424856   \n",
      "min      18.700000    2.600000    1.700000    0.300000    0.200000   \n",
      "25%      27.700000   11.800000    3.500000    1.900000    0.775000   \n",
      "50%      30.600000   14.300000    5.500000    2.800000    1.000000   \n",
      "75%      33.400000   17.200000    7.800000    4.000000    1.300000   \n",
      "max      45.800000   30.100000   22.900000   11.200000    2.700000   \n",
      "\n",
      "               BLK         FG%         3P%         FT%          WS       WS/48  \n",
      "count   432.000000  499.000000  378.000000  499.000000  499.000000  499.000000  \n",
      "unique         NaN         NaN         NaN         NaN         NaN         NaN  \n",
      "top            NaN         NaN         NaN         NaN         NaN         NaN  \n",
      "freq           NaN         NaN         NaN         NaN         NaN         NaN  \n",
      "mean      0.604861    0.463986    0.255733    0.761515   66.988577    0.118044  \n",
      "std       0.598761    0.040323    0.126370    0.072029   39.902089    0.039806  \n",
      "min       0.000000    0.302000    0.000000    0.414000   -7.900000   -0.045000  \n",
      "25%       0.200000    0.441000    0.168000    0.722000   38.900000    0.092000  \n",
      "50%       0.400000    0.463000    0.293000    0.769000   58.700000    0.116000  \n",
      "75%       0.800000    0.489000    0.344500    0.808000   83.400000    0.139000  \n",
      "max       3.500000    0.599000    1.000000    0.905000  273.400000    0.250000  \n"
     ]
    }
   ],
   "source": [
    "data.drop(data.tail(1).index,inplace=True)\n",
    "print(data.describe(include = 'all'))"
   ]
  },
  {
   "cell_type": "markdown",
   "metadata": {},
   "source": [
    "After dropping the last row, we look at the distribution of all the variables. Interestingly, there are two players named \"Eddie Johnson\". I noticed this when I was going through the data to add the \"Position\" variable, and they happened to be ranked 282 and 283. I will rename the second \"Eddie Johnson\" as \"Eddie Johnson 2\"."
   ]
  },
  {
   "cell_type": "code",
   "execution_count": 4,
   "metadata": {},
   "outputs": [],
   "source": [
    "data.loc[282, \"Player\"] = \"Eddie Johnson 2\"  "
   ]
  },
  {
   "cell_type": "markdown",
   "metadata": {},
   "source": [
    "Below I created a list of players for each position, Point Guard (PG), Shooting Guard (SG), Small Forward (SF), Power Forward (PF) and Center (C) which will be used to create the \"Position\" variable. I got the position for each player by looking at their page on https://www.basketball-reference.com/. If the player played more than 1 position during the career, I used the position they played more season at. If they played an equal number of seasons for 2 positions, I used whichever position was listed first."
   ]
  },
  {
   "cell_type": "code",
   "execution_count": 5,
   "metadata": {},
   "outputs": [],
   "source": [
    "pg = [\"Oscar Robertson\", \"Magic Johnson\", \"Jerry West\", \"Isiah Thomas\", \"John Stockton\", \"Bob Cousy\", \"Jason Kidd\", \"Walt Frazier\", \"Gary Payton\", \n",
    "      \"Allen Iverson\", \"Earl Monroe\", \"Steve Nash\", \"Tiny Archibald\", \"Dennis Johnson\", \"Dave Bing\", \"Hal Greer\", \"Lenny Wilkens\", \"Joe Dumars\",\n",
    "      \"Tim Hardaway\", \"Sidney Moncrief\", \"Slater Martin\",\"Kevin Johnson\", \"Chris Paul\", \"Norm Van Lier\", \"Jo Jo White\", \"Dick McGuire\",\n",
    "      \"Maurice Cheeks\", \"Chauncey Billups\", \"Deron Williams\", \"Guy Rodgers\", \"Phil Chenier\", \"Bob Davies\", \"Tony Parker\", \"Paul Westphal\",\n",
    "      \"Gus Williams\", \"Gene Shue\", \"Mark Price\", \"Calvin Murphy\", \"Mark Jackson\", \"Terry Porter\", \"Reggie Theus\", \"K.C. Jones\",\n",
    "      \"Gilbert Arenas\", \"Norm Nixon\", \"Sam Cassell\", \"Stephon Marbury\", \"Fat Lever\", \"Baron Davis\", \"Mookie Blaylock\", \"Rod Strickland\",\n",
    "      \"Derek Harper\", \"Steve Francis\", \"Quinn Buckner\", \"Mike Bibby\", \"Andre Miller\", \"Geoff Petrie\", \"John Lucas\", \"Terrell Brandon\",\n",
    "      \"Sleepy Floyd\", \"Doc Rivers\", \"Larry Costello\", \"Phil Ford\", \"Nick Van Exel\", \"Lucius Allen\", \"Damon Stoudamire\", \"Slick Watts\",\n",
    "      \"Kenny Anderson\", \"Ray Williams\", \"Lionel Hollins\", \"Kenny Smith\", \"Michael Adams\", \"Jameer Nelson\", \"Muggsy Bogues\", \"Mahmoud Abdul-Rauf\",\n",
    "      \"Sherman Douglas\", \"Walt Hazzard\", \"Scott Skiles\", \"Flynn Robinson\", \"Derek Fisher\", \"Larry Drew\", \"Vern Fleming\", \"Johnny Dawkins\",\n",
    "      \"Pooh Richardson\", \"Nate McMillan\", \"Ernie DiGregorio\", \"Al Attles\", \"B.J. Armstrong\", \"Spud Webb\", \"Kelvin Ransey\", \"Eric Money\",\n",
    "      \"Jason Williams\", \"Devin Harris\", \"Jay Humphries\", \"Don Buse\", \"Wali Jones\", \"Dana Barros\", \"Avery Johnson\"] \n",
    "\n",
    "sg = [\"Michael Jordan\", \"Kobe Bryant\", \"George Gervin\", \"Dwyane Wade\", \"Reggie Miller\", \"Pete Maravich\", \"David Thompson\", \"Sam Jones\", \n",
    "      \"Bill Sharman\", \"Ray Allen\", \"Mitch Richmond\", \"Grant Hill\", \"Vince Carter\", \"Kevin Porter\", \"Richie Guerin\", \"Marques Johnson\", \n",
    "      \"Anfernee Hardaway\", \"Charlie Scott\", \"Michael Cooper\", \"Phil Smith\", \"Manu Ginóbili\", \"Bobby Wanzer\", \"Otis Birdsong\", \"Randy Smith\", \n",
    "      \"Rolando Blackman\", \"Andy Phillip\", \"Andrew Toney\", \"Micheal Ray Richardson\", \"Archie Clark\", \"Jimmy Walker\", \"Doug Collins\", \n",
    "      \"Alvin Robertson\", \"World B. Free\", \"Don Ohl\", \"Carl Braun\", \"Jeff Malone\", \"John Williamson\", \"Darrell Griffith\", \"Dale Ellis\",\n",
    "      \"Michael Redd\", \"Austin Carr\", \"Max Zaslofsky\", \"Doug Christie\", \"Eddie Jones\", \"Jeff Hornacek\", \"Brian Winters\", \"Eddie Johnson\",\n",
    "      \"Jeff Mullins\", \"Jerry Stackhouse\", \"Don Chaney\", \"Fred Brown\", \"Dick Barnett\", \"Dick Van Arsdale\", \"Danny Ainge\", \"Fred Carter\",\n",
    "      \"Allan Houston\", \"Byron Scott\", \"Ron Harper\", \"Ben Gordon\", \"Vinnie Johnson\", \"Nick Anderson\", \"Paul Pressey\", \"Monta Ellis\",\n",
    "      \"Steve Smith\", \"Ricky Sobers\", \"Ricky Pierce\", \"John Starks\", \"Jason Terry\", \"Hersey Hawkins\", \"Mike Newlin\", \"Kevin Loughery\",\n",
    "      \"Dick Garmaker\", \"Vernon Maxwell\", \"Mike Woodson\", \"Johnny Davis\", \"Bucky Bockhorn\", \"Eddie Miles\", \"Herm Gilliam\", \"Adrian Smith\",\n",
    "      \"Rex Chapman\", \"Jamal Crawford\", \"Quintin Dailey\", \"Jim Paxson\", \"Gerald Wilkins\", \"Dell Curry\", \"Kevin Martin\", \"Kerry Kittles\",\n",
    "      \"Kendall Gill\", \"Larry Hughes\", \"Jon McGlocklin\", \"Clem Haskins\", \"John Long\", \"Šarūnas Marčiulionis\", \"Cuttino Mobley\", \"David Wesley\"]\n",
    "\n",
    "sf = [\"Elgin Baylor\", \"Julius Erving\", \"John Havlicek\", \"Rick Barry\", \"Scottie Pippen\", \"LeBron James\", \"Billy Cunningham\", \"Clyde Drexler\", \n",
    "      \"Dominique Wilkins\", \"Dennis Rodman\", \"James Worthy\", \"Jack Twyman\", \"Gus Johnson\", \"Tom Heinsohn\", \"Bernard King\", \"Paul Arizin\",\n",
    "      \"Dave DeBusschere\", \"Paul Pierce\", \"Alex English\", \"Adrian Dantley\", \"Cliff Hagan\", \"Chris Mullin\", \"Bob Dandridge\", \"Bob Love\",\n",
    "      \"Jim Pollard\", \"Tracy McGrady\", \"Walter Davis\", \"Carmelo Anthony\", \"Jamaal Wilkes\", \"Chet Walker\", \"George Yardley\", \"Willie Naulls\",\n",
    "      \"Lou Hudson\", \"Paul Silas\", \"Metta World Peace\", \"Shawn Marion\", \"Tom Gola\", \"Bill Bradley\", \"Larry Johnson\", \"Jerry Sloan\",\n",
    "      \"Jamal Mashburn\", \"Joe Caldwell\", \"Mark Aguirre\", \"Kiki Vandeweghe\", \"Lamar Odom\", \"Kelly Tripucka\", \"Cedric Maxwell\", \"Reggie Lewis\",\n",
    "      \"Richard Hamilton\", \"Peja Stojaković\", \"Latrell Sprewell\", \"Jason Richardson\", \"Purvis Short\", \"Antawn Jamison\", \"Jim McMillian\",\n",
    "      \"Glenn Robinson\", \"Bruce Bowen\", \"Detlef Schrempf\", \"Terry Dischinger\", \"Toni Kukoč\", \"Frank Ramsey\", \"Anthony Mason\", \"Happy Hairston\",\n",
    "      \"Shareef Abdur-Rahim\", \"Dan Majerle\", \"Jack Marin\", \"Clifford Robinson\", \"Scott Wedman\", \"Xavier McDaniel\", \"Eddie Johnson 2\",\n",
    "      \"Cliff Robinson\", \"Michael Finley\", \"Mike Mitchell\", \"Glen Rice\", \"Calvin Natt\", \"Rashard Lewis\", \"Tom Sanders\", \"Sean Elliott\",\n",
    "      \"Tom Van Arsdale\", \"Gerald Wallace\", \"Caron Butler\", \"Lionel Simmons\", \"Greg Ballard\", \"Danny Granger\", \"Andre Iguodala\", \"Billy Knight\",\n",
    "      \"Jay Vincent\", \"Jim Jackson\", \"Rodney McCray\", \"Campy Russell\", \"Tayshaun Prince\", \"Chuck Person\", \"John Johnson\", \"Jalen Rose\",\n",
    "      \"Mike Bantom\", \"Stephen Jackson\", \"Richard Jefferson\", \"Corey Maggette\", \"Junior Bridgeman\", \"M.L. Carr\", \"Quentin Richardson\",\n",
    "      \"Derrick McKey\", \"Keith Van Horn\", \"Cedric Ceballos\", \"Michael Brooks\", \"Ken Norman\", \"Don Kojis\", \"Luol Deng\", \"Jerome Kersey\",\n",
    "      \"Don Nelson\", \"Mike Miller\", \"Roy Hinson\", \"Andrei Kirilenko\", \"Shane Battier\", \"Albert King\", \"Josh Howard\", \"Hedo Türkoğlu\",\n",
    "      \"Wally Szczerbiak\", \"Billy Owens\", \"Phil Hubbard\", \"Robert Reid\", \"Gene Banks\", \"Reggie Williams\"]\n",
    "\n",
    "pf = [\"Larry Bird\", \"Bob Pettit\", \"Moses Malone\", \"Karl Malone\", \"Charles Barkley\", \"Elvin Hayes\", \"Kevin McHale\", \"Kevin Garnett\", \n",
    "      \"Willis Reed\", \"Wes Unseld\", \"Nate Thurmond\", \"Dolph Schayes\", \"Jerry Lucas\", \"Dave Cowens\", \"Bob McAdoo\", \"Dirk Nowitzki\",\n",
    "      \"Connie Hawkins\", \"Joe Fulks\", \"Alonzo Mourning\", \"Chris Webber\", \"Dwight Howard\", \"Spencer Haywood\", \"Buck Williams\",\n",
    "      \"Dan Issel\", \"George McGinnis\", \"Zelmo Beaty\", \"Tom Chambers\", \"Ben Wallace\", \"Bailey Howell\", \"Rudy Tomjanovich\",\n",
    "      \"Maurice Lucas\", \"Amar'e Stoudemire\", \"Vern Mikkelsen\", \"Rudy LaRusso\", \"Terry Cummings\", \"Shawn Kemp\", \"Horace Grant\",\n",
    "      \"Rasheed Wallace\", \"Bobby Jones\", \"Johnny Green\", \"John Drew\", \"Larry Nance\", \"Clyde Lovellette\", \"Chris Bosh\", \"Jermaine O'Neal\",\n",
    "      \"Elton Brand\", \"Derrick Coleman\", \"Joe Johnson\", \"Larry Kenon\", \"Bill Bridges\", \"Alvan Adams\", \"Carlos Boozer\", \"Marcus Camby\",\n",
    "      \"Danny Manning\", \"Charles Oakley\", \"Sidney Wicks\", \"Ray Scott\", \"Cazzie Russell\", \"Mickey Johnson\", \"Orlando Woolridge\",\n",
    "      \"Clark Kellogg\", \"Antoine Walker\", \"Truck Robinson\", \"A.C. Green\", \"Ralph Sampson\", \"David West\", \"Dan Roundfield\", \"Otis Thorpe\",\n",
    "      \"Zach Randolph\", \"Bob Boozer\", \"Kenny Sears\", \"Tom Gugliotta\", \"Kenyon Martin\", \"Sam Perkins\", \"Tom Meschery\", \"Wayman Tisdale\",\n",
    "      \"Luke Jackson\", \"Kevin Willis\", \"Roy Tarpley\", \"Vin Baker\", \"Nat Clifton\", \"Robert Horry\", \"Armen Gilliam\", \"John Shumate\",\n",
    "      \"Antonio McDyess\", \"Juwan Howard\", \"Lloyd Neal\", \"Lonnie Shelton\", \"Larry Smith\", \"Woody Sauldsberry\", \"Jim Washington\",\n",
    "      \"Kermit Washington\", \"Antonio Davis\", \"Christian Laettner\", \"Thurl Bailey\", \"Al Harrington\", \"Kenny Carr\", \"Ron Behagen\",\n",
    "      \"Brian Grant\", \"Tyrone Hill\", \"Troy Murphy\", \"Curtis Rowe\", \"Dave Greenwood\", \"Charles Smith\", \"David Lee\", \"Grant Long\",\n",
    "      \"LaPhonso Ellis\", \"Gar Heard\", \"Terry Catledge\", \"Bob Kauffman\", \"Loy Vaught\", \"Mitch Kupchak\", \"Joe Graboski\", \"Antoine Carr\",\n",
    "      \"Joe Smith\", \"P.J. Brown\", \"Drew Gooden\"]\n",
    "\n",
    "c = [\"Wilt Chamberlain\", \"Bill Russell\", \"Shaquille O'Neal\", \"Kareem Abdul-Jabbar\", \"Tim Duncan\", \"Hakeem Olajuwon\", \"David Robinson\", \n",
    "     \"George Mikan\", \"Patrick Ewing\", \"Walt Bellamy\", \"Bob Lanier\", \"Robert Parish\", \"Bill Walton\", \"Neil Johnston\", \"Ed Macauley\",\n",
    "     \"Artis Gilmore\", \"Dikembe Mutombo\", \"Pau Gasol\", \"Brad Daugherty\", \"Jack Sikma\", \"Harry Gallatin\", \"Larry Foust\", \"Red Kerr\",\n",
    "     \"Yao Ming\", \"Bob Rule\", \"Wayne Embry\", \"Arnie Risen\", \"Bill Laimbeer\", \"Jeff Ruland\", \"Walter Dukes\", \"Zydrunas Ilgauskas\",\n",
    "     \"Rony Seikaly\", \"Caldwell Jones\", \"Rik Smits\", \"Vlade Divac\", \"Bill Cartwright\", \"Mel Hutchins\", \"Swen Nater\", \"Sam Lacey\",\n",
    "     \"Elmore Smith\", \"Joe Barry Carroll\", \"Theo Ratliff\", \"Arvydas Sabonis\", \"Jim Chones\", \"Darryl Dawkins\", \"Al Jefferson\",\n",
    "     \"Steve Stipanovich\", \"Mark Eaton\", \"Mychal Thompson\", \"Ray Felix\", \"Steve Johnson\", \"Michael Cage\", \"Dale Davis\", \"Andrew Bogut\",\n",
    "     \"James Edwards\", \"Hot Rod Williams\", \"Sam Bowie\", \"Zaid Abdul-Aziz\", \"Emeka Okafor\", \"Tree Rollins\", \"Marvin Webster\",\n",
    "     \"Elden Campbell\", \"Clyde Lee\", \"Clifford Ray\", \"Manute Bol\", \"Kevin Duckworth\", \"Chris Kaman\", \"Pervis Ellison\"]"
   ]
  },
  {
   "cell_type": "code",
   "execution_count": 6,
   "metadata": {},
   "outputs": [
    {
     "data": {
      "text/html": [
       "<div>\n",
       "<style scoped>\n",
       "    .dataframe tbody tr th:only-of-type {\n",
       "        vertical-align: middle;\n",
       "    }\n",
       "\n",
       "    .dataframe tbody tr th {\n",
       "        vertical-align: top;\n",
       "    }\n",
       "\n",
       "    .dataframe thead th {\n",
       "        text-align: right;\n",
       "    }\n",
       "</style>\n",
       "<table border=\"1\" class=\"dataframe\">\n",
       "  <thead>\n",
       "    <tr style=\"text-align: right;\">\n",
       "      <th></th>\n",
       "      <th>Rank</th>\n",
       "      <th>Player</th>\n",
       "      <th>From</th>\n",
       "      <th>To</th>\n",
       "      <th>G</th>\n",
       "      <th>MP</th>\n",
       "      <th>PTS</th>\n",
       "      <th>TRB</th>\n",
       "      <th>AST</th>\n",
       "      <th>STL</th>\n",
       "      <th>BLK</th>\n",
       "      <th>FG%</th>\n",
       "      <th>3P%</th>\n",
       "      <th>FT%</th>\n",
       "      <th>WS</th>\n",
       "      <th>WS/48</th>\n",
       "      <th>Position</th>\n",
       "    </tr>\n",
       "  </thead>\n",
       "  <tbody>\n",
       "    <tr>\n",
       "      <th>494</th>\n",
       "      <td>495</td>\n",
       "      <td>Drew Gooden</td>\n",
       "      <td>2003</td>\n",
       "      <td>2016</td>\n",
       "      <td>790</td>\n",
       "      <td>25.5</td>\n",
       "      <td>11.0</td>\n",
       "      <td>7.1</td>\n",
       "      <td>1.1</td>\n",
       "      <td>0.7</td>\n",
       "      <td>0.6</td>\n",
       "      <td>0.462</td>\n",
       "      <td>0.257</td>\n",
       "      <td>0.760</td>\n",
       "      <td>43.9</td>\n",
       "      <td>0.105</td>\n",
       "      <td>PF</td>\n",
       "    </tr>\n",
       "    <tr>\n",
       "      <th>495</th>\n",
       "      <td>496</td>\n",
       "      <td>Kevin Duckworth</td>\n",
       "      <td>1987</td>\n",
       "      <td>1997</td>\n",
       "      <td>684</td>\n",
       "      <td>25.5</td>\n",
       "      <td>11.8</td>\n",
       "      <td>5.8</td>\n",
       "      <td>0.9</td>\n",
       "      <td>0.5</td>\n",
       "      <td>0.5</td>\n",
       "      <td>0.468</td>\n",
       "      <td>0.208</td>\n",
       "      <td>0.736</td>\n",
       "      <td>24.7</td>\n",
       "      <td>0.068</td>\n",
       "      <td>C</td>\n",
       "    </tr>\n",
       "    <tr>\n",
       "      <th>496</th>\n",
       "      <td>497</td>\n",
       "      <td>Chris Kaman</td>\n",
       "      <td>2004</td>\n",
       "      <td>2016</td>\n",
       "      <td>735</td>\n",
       "      <td>26.7</td>\n",
       "      <td>11.2</td>\n",
       "      <td>7.6</td>\n",
       "      <td>1.3</td>\n",
       "      <td>0.4</td>\n",
       "      <td>1.3</td>\n",
       "      <td>0.489</td>\n",
       "      <td>0.042</td>\n",
       "      <td>0.743</td>\n",
       "      <td>24.6</td>\n",
       "      <td>0.060</td>\n",
       "      <td>C</td>\n",
       "    </tr>\n",
       "    <tr>\n",
       "      <th>497</th>\n",
       "      <td>498</td>\n",
       "      <td>Cuttino Mobley</td>\n",
       "      <td>1999</td>\n",
       "      <td>2009</td>\n",
       "      <td>747</td>\n",
       "      <td>37.0</td>\n",
       "      <td>16.0</td>\n",
       "      <td>3.9</td>\n",
       "      <td>2.7</td>\n",
       "      <td>1.2</td>\n",
       "      <td>0.4</td>\n",
       "      <td>0.433</td>\n",
       "      <td>0.378</td>\n",
       "      <td>0.835</td>\n",
       "      <td>52.2</td>\n",
       "      <td>0.091</td>\n",
       "      <td>SG</td>\n",
       "    </tr>\n",
       "    <tr>\n",
       "      <th>498</th>\n",
       "      <td>499</td>\n",
       "      <td>David Wesley</td>\n",
       "      <td>1994</td>\n",
       "      <td>2007</td>\n",
       "      <td>949</td>\n",
       "      <td>31.9</td>\n",
       "      <td>12.5</td>\n",
       "      <td>2.5</td>\n",
       "      <td>4.4</td>\n",
       "      <td>1.3</td>\n",
       "      <td>0.2</td>\n",
       "      <td>0.424</td>\n",
       "      <td>0.368</td>\n",
       "      <td>0.786</td>\n",
       "      <td>61.3</td>\n",
       "      <td>0.097</td>\n",
       "      <td>SG</td>\n",
       "    </tr>\n",
       "  </tbody>\n",
       "</table>\n",
       "</div>"
      ],
      "text/plain": [
       "     Rank           Player  From    To    G    MP   PTS  TRB  AST  STL  BLK  \\\n",
       "494   495      Drew Gooden  2003  2016  790  25.5  11.0  7.1  1.1  0.7  0.6   \n",
       "495   496  Kevin Duckworth  1987  1997  684  25.5  11.8  5.8  0.9  0.5  0.5   \n",
       "496   497      Chris Kaman  2004  2016  735  26.7  11.2  7.6  1.3  0.4  1.3   \n",
       "497   498   Cuttino Mobley  1999  2009  747  37.0  16.0  3.9  2.7  1.2  0.4   \n",
       "498   499     David Wesley  1994  2007  949  31.9  12.5  2.5  4.4  1.3  0.2   \n",
       "\n",
       "       FG%    3P%    FT%    WS  WS/48 Position  \n",
       "494  0.462  0.257  0.760  43.9  0.105       PF  \n",
       "495  0.468  0.208  0.736  24.7  0.068        C  \n",
       "496  0.489  0.042  0.743  24.6  0.060        C  \n",
       "497  0.433  0.378  0.835  52.2  0.091       SG  \n",
       "498  0.424  0.368  0.786  61.3  0.097       SG  "
      ]
     },
     "execution_count": 6,
     "metadata": {},
     "output_type": "execute_result"
    }
   ],
   "source": [
    "def pos(row):\n",
    "    if row['Player'] in pg:\n",
    "        val = \"PG\"\n",
    "    elif row['Player'] in sg:\n",
    "        val = \"SG\"\n",
    "    elif row['Player'] in sf:\n",
    "        val = \"SF\"\n",
    "    elif row['Player'] in pf:\n",
    "        val = \"PF\"\n",
    "    elif row['Player'] in c:\n",
    "        val = \"C\"\n",
    "    else:\n",
    "        val = \"\"\n",
    "    return val\n",
    "\n",
    "data['Position'] = data.apply(pos, axis = 1)\n",
    "\n",
    "data.tail()"
   ]
  },
  {
   "cell_type": "markdown",
   "metadata": {},
   "source": [
    "I created the function pos(row) to add the \"Position\" variable to the data. We can see that it somehow missed the last player, \"Pervis Ellison,\" so I will need to add his position manually."
   ]
  },
  {
   "cell_type": "code",
   "execution_count": 7,
   "metadata": {},
   "outputs": [
    {
     "name": "stdout",
     "output_type": "stream",
     "text": [
      "      Rank           Player    From      To      G    MP   PTS  TRB  AST  STL  \\\n",
      "495  496.0  Kevin Duckworth  1987.0  1997.0  684.0  25.5  11.8  5.8  0.9  0.5   \n",
      "496  497.0      Chris Kaman  2004.0  2016.0  735.0  26.7  11.2  7.6  1.3  0.4   \n",
      "497  498.0   Cuttino Mobley  1999.0  2009.0  747.0  37.0  16.0  3.9  2.7  1.2   \n",
      "498  499.0     David Wesley  1994.0  2007.0  949.0  31.9  12.5  2.5  4.4  1.3   \n",
      "499    NaN              NaN     NaN     NaN    NaN   NaN   NaN  NaN  NaN  NaN   \n",
      "\n",
      "     BLK    FG%    3P%    FT%    WS  WS/48 Position  \n",
      "495  0.5  0.468  0.208  0.736  24.7  0.068        C  \n",
      "496  1.3  0.489  0.042  0.743  24.6  0.060        C  \n",
      "497  0.4  0.433  0.378  0.835  52.2  0.091       SG  \n",
      "498  0.2  0.424  0.368  0.786  61.3  0.097       SG  \n",
      "499  NaN    NaN    NaN    NaN   NaN    NaN        C  \n"
     ]
    },
    {
     "data": {
      "text/plain": [
       "SF    123\n",
       "PF    117\n",
       "PG     97\n",
       "SG     95\n",
       "C      68\n",
       "Name: Position, dtype: int64"
      ]
     },
     "execution_count": 7,
     "metadata": {},
     "output_type": "execute_result"
    }
   ],
   "source": [
    "data.loc[499, \"Position\"] = \"C\"\n",
    "\n",
    "print(data.tail())\n",
    "\n",
    "data['Position'].value_counts()"
   ]
  },
  {
   "cell_type": "markdown",
   "metadata": {},
   "source": [
    "Now that I have the \"Position\" variable created, I can replace the missing values with the median of the position."
   ]
  },
  {
   "cell_type": "code",
   "execution_count": 8,
   "metadata": {},
   "outputs": [
    {
     "name": "stdout",
     "output_type": "stream",
     "text": [
      "<class 'pandas.core.frame.DataFrame'>\n",
      "Int64Index: 500 entries, 0 to 499\n",
      "Data columns (total 17 columns):\n",
      "Rank        499 non-null float64\n",
      "Player      499 non-null object\n",
      "From        499 non-null float64\n",
      "To          499 non-null float64\n",
      "G           499 non-null float64\n",
      "MP          499 non-null float64\n",
      "PTS         499 non-null float64\n",
      "TRB         499 non-null float64\n",
      "AST         499 non-null float64\n",
      "STL         500 non-null float64\n",
      "BLK         500 non-null float64\n",
      "FG%         499 non-null float64\n",
      "3P%         500 non-null float64\n",
      "FT%         499 non-null float64\n",
      "WS          499 non-null float64\n",
      "WS/48       499 non-null float64\n",
      "Position    500 non-null object\n",
      "dtypes: float64(15), object(2)\n",
      "memory usage: 90.3+ KB\n"
     ]
    }
   ],
   "source": [
    "data['STL'] = data.groupby('Position')['STL'].transform(lambda x: x.fillna(x.median()))\n",
    "\n",
    "data['BLK'] = data.groupby('Position')['BLK'].transform(lambda x: x.fillna(x.median()))\n",
    "\n",
    "data['3P%'] = data.groupby('Position')['3P%'].transform(lambda x: x.fillna(x.median()))\n",
    "\n",
    "data.info()"
   ]
  },
  {
   "cell_type": "markdown",
   "metadata": {},
   "source": [
    "In the above output, we can see that there are no more missing values. Next, I will be creating the \"HoF\" variable. "
   ]
  },
  {
   "cell_type": "code",
   "execution_count": 9,
   "metadata": {},
   "outputs": [],
   "source": [
    "hof = [\"George Mikan\", \"Ed Macauley\", \"Andy Phillip\", \"Bob Davies\", \"Bob Pettit\", \"Bob Cousy\", \"Dolph Schayes\", \"Bill Russell\", \"Tom Gola\",\n",
    "       \"Bill Sharman\", \"Elgin Baylor\", \"Paul Arizin\", \"Joe Fulks\", \"Cliff Hagan\", \"Jim Pollard\", \"Wilt Chamberlain\", \"Jerry Lucas\", \n",
    "       \"Oscar Robertson\", \"Jerry West\", \"Hal Greer\", \"Slater Martin\", \"Frank Ramsey\", \"Willis Reed\", \"Bill Bradley\", \"Dave DeBusschere\",\n",
    "       \"Jack Twyman\", \"John Havlicek\", \"Sam Jones\", \"Al Cervi\", \"Nate Thurmond\", \"Billy Cunningham\", \"Tom Heinsohn\", \"Rick Barry\",\n",
    "       \"Walt Frazier\", \"Bob Houbregs\", \"Pete Maravich\", \"Bobby Wanzer\", \"Clyde Lovellette\", \"Wes Unseld\", \"K.C. Jones\", \"Lenny Wilkins\",\n",
    "       \"Dave Bing\", \"Dave Cowens\", \"Harry Gallatin\", \"Connie Hawkins\", \"Bob Lanier\", \"Walt Bellamy\", \"Julius Erving\", \"Dan Issel\",\n",
    "       \"Dick McGuire\", \"Calvin Murphy\", \"Bill Walton\", \"Buddy Jeannette\", \"Kareem Abdul-Jabbar\", \"Vern Mikkelsen\", \"George Gervin\",\n",
    "       \"Gail Goodrich\", \"David Thompson\", \"George Yardley\", \"Alex English\", \"Bailey Howell\", \"Larry Bird\", \"Arnie Risen\", \"Wayne Embry\",\n",
    "       \"Kevin McHale\", \"Bob McAdoo\", \"Isiah Thomas\", \"Moses Malone\", \"Magic Johnson\", \"Drazen Petrovic\", \"Earl Lloyd\", \"Robert Parish\",\n",
    "       \"James Worthy\", \"Clyde Drexler\", \"Maurice Stokes\", \"Charles Barkley\", \"Joe Dumars\", \"Dominique Wilkins\", \"Adrian Dantley\", \n",
    "       \"Patrick Ewing\", \"Hakeem Olajuwon\", \"Michael Jordan\", \"David Robinson\", \"John Stockton\", \"Dennis Johnson\", \"Gus Johnson\",\n",
    "       \"Karl Malone\", \"Scottie Pippen\", \"Artis Gilmore\", \"Chris Mullin\", \"Dennis Rodman\", \"Arvydas Sabonis\", \"Tom Sanders\", \"Don Barksdale\",\n",
    "       \"Mel Daniels\", \"Reggie Miller\", \"Ralph Sampson\", \"Chet Walker\", \"Jamaal Wilkes\", \"Richie Guerin\", \"Bernard King\", \"Gary Payton\",\n",
    "       \"Nathaniel Clifton\", \"Slick Leonard\", \"Sarunas Marciulionis\", \"Alonso Mourning\", \"Mitch Richmond\", \"Guy Rodgers\", \"Louis Dampier\",\n",
    "       \"Spencer Haywood\", \"Tom Heinsohn\", \"Dikembe Mutombo\", \"Jo Jo White\", \"Zelmo Beaty\", \"Allen Iverson\", \"Yao Ming\", \"Shaquille O'Neal\",\n",
    "       \"George McGinnis\", \"Tracy McGrady\", \"Ray Allen\", \"Maruice Cheeks\", \"Grant Hill\", \"Jason Kidd\", \"Steve Nash\", \"Dino Radja\", \n",
    "       \"Charlie Scott\", \"Rod Thorn\", \"Carl Braun\", \"Chuck Cooper\", \"Vlade Divac\", \"Bobby Jones\", \"Sidney Moncrief\", \"Jack Sikma\", \"Paul Wetphal\"]\n",
    "\n",
    "def hf(row):\n",
    "    if row['Player'] in hof:\n",
    "        val = 1\n",
    "    else:\n",
    "        val = 0 \n",
    "    return val\n",
    "\n",
    "data['HoF'] = data.apply(hf, axis = 1)\n",
    "\n",
    "data['HoF'] = pd.Categorical(data.HoF)"
   ]
  },
  {
   "cell_type": "markdown",
   "metadata": {},
   "source": [
    "I used: https://www.landofbasketball.com/hall_of_fame/hall_of_famers_by_year.htm to create a list of all NBA players in the Hall of Fame. The function hf(row) was created, similar to pos(row) to add the \"HoF\" to the data. I then needed to convert it to a categorical variable. "
   ]
  },
  {
   "cell_type": "code",
   "execution_count": 10,
   "metadata": {},
   "outputs": [
    {
     "data": {
      "text/plain": [
       "0    387\n",
       "1    113\n",
       "Name: HoF, dtype: int64"
      ]
     },
     "execution_count": 10,
     "metadata": {},
     "output_type": "execute_result"
    }
   ],
   "source": [
    "data['HoF'].value_counts()"
   ]
  },
  {
   "cell_type": "code",
   "execution_count": 11,
   "metadata": {},
   "outputs": [
    {
     "data": {
      "text/plain": [
       "134"
      ]
     },
     "execution_count": 11,
     "metadata": {},
     "output_type": "execute_result"
    }
   ],
   "source": [
    "len(hof)"
   ]
  },
  {
   "cell_type": "markdown",
   "metadata": {},
   "source": [
    "Of the 500 players in the data, only 113 are in the Hall of Fame. However, there are a total of 134 players in the Hall of Fame. It is interesting that SLAM magazine did not include 21 Hall of Famers in their top 500 player list. The last step in my data cleaning is to add the \"Years Played\" variable, which I will do below. "
   ]
  },
  {
   "cell_type": "code",
   "execution_count": 12,
   "metadata": {},
   "outputs": [],
   "source": [
    "data['Years Played'] = data['To'] - data['From']"
   ]
  },
  {
   "cell_type": "markdown",
   "metadata": {},
   "source": [
    "### Exploratory Data Analysis"
   ]
  },
  {
   "cell_type": "code",
   "execution_count": 31,
   "metadata": {},
   "outputs": [
    {
     "name": "stdout",
     "output_type": "stream",
     "text": [
      "              Rank        Player         From           To            G  \\\n",
      "count   499.000000           499   499.000000   499.000000   499.000000   \n",
      "unique         NaN           499          NaN          NaN          NaN   \n",
      "top            NaN  Walter Dukes          NaN          NaN          NaN   \n",
      "freq           NaN             1          NaN          NaN          NaN   \n",
      "mean    250.000000           NaN  1980.915832  1992.545090   839.160321   \n",
      "std     144.193157           NaN    14.757917    16.346139   241.805812   \n",
      "min       1.000000           NaN  1947.000000  1954.000000   260.000000   \n",
      "25%     125.500000           NaN  1971.000000  1980.000000   681.500000   \n",
      "50%     250.000000           NaN  1982.000000  1993.000000   833.000000   \n",
      "75%     374.500000           NaN  1992.000000  2005.000000   983.500000   \n",
      "max     499.000000           NaN  2006.000000  2019.000000  1611.000000   \n",
      "\n",
      "                MP         PTS         TRB         AST         STL  \\\n",
      "count   499.000000  499.000000  499.000000  499.000000  500.000000   \n",
      "unique         NaN         NaN         NaN         NaN         NaN   \n",
      "top            NaN         NaN         NaN         NaN         NaN   \n",
      "freq           NaN         NaN         NaN         NaN         NaN   \n",
      "mean     30.515631   14.721042    5.941483    3.212425    1.035100   \n",
      "std       4.039931    4.165817    3.040652    1.829896    0.404834   \n",
      "min      18.700000    2.600000    1.700000    0.300000    0.200000   \n",
      "25%      27.700000   11.800000    3.500000    1.900000    0.800000   \n",
      "50%      30.600000   14.300000    5.500000    2.800000    1.000000   \n",
      "75%      33.400000   17.200000    7.800000    4.000000    1.200000   \n",
      "max      45.800000   30.100000   22.900000   11.200000    2.700000   \n",
      "\n",
      "               BLK         FG%         3P%         FT%          WS  \\\n",
      "count   500.000000  499.000000  500.000000  499.000000  499.000000   \n",
      "unique         NaN         NaN         NaN         NaN         NaN   \n",
      "top            NaN         NaN         NaN         NaN         NaN   \n",
      "freq           NaN         NaN         NaN         NaN         NaN   \n",
      "mean      0.606000    0.463986    0.256907    0.761515   66.988577   \n",
      "std       0.582824    0.040323    0.117904    0.072029   39.902089   \n",
      "min       0.000000    0.302000    0.000000    0.414000   -7.900000   \n",
      "25%       0.200000    0.441000    0.176000    0.722000   38.900000   \n",
      "50%       0.400000    0.463000    0.302500    0.769000   58.700000   \n",
      "75%       0.800000    0.489000    0.332000    0.808000   83.400000   \n",
      "max       3.500000    0.599000    1.000000    0.905000  273.400000   \n",
      "\n",
      "             WS/48 Position    HoF  Years Played  \n",
      "count   499.000000      500  500.0    499.000000  \n",
      "unique         NaN        5    2.0           NaN  \n",
      "top            NaN       SF    0.0           NaN  \n",
      "freq           NaN      123  387.0           NaN  \n",
      "mean      0.118044      NaN    NaN     11.629259  \n",
      "std       0.039806      NaN    NaN      3.240188  \n",
      "min      -0.045000      NaN    NaN      4.000000  \n",
      "25%       0.092000      NaN    NaN      9.000000  \n",
      "50%       0.116000      NaN    NaN     12.000000  \n",
      "75%       0.139000      NaN    NaN     14.000000  \n",
      "max       0.250000      NaN    NaN     22.000000  \n"
     ]
    }
   ],
   "source": [
    "print(data.describe(include = 'all'))"
   ]
  },
  {
   "cell_type": "markdown",
   "metadata": {},
   "source": [
    "The median value for \"From\" is 1980, the min is 1947 and the max is 2006. The median value for \"To\" is 1982, the min is 1954 and the max is 2006. More than 75% of the players in the data had their whole career before I was born in 1996. The median value for \"G\" is 832.5, the min is 260 and the max is 1611. The median value of \"MP\" is 30.6, the min is 18.7 and the max is 45.8. An NBA game is 48 minutes long, so it is impressive that there is player who averaged almost 46 minutes per game throughout his career. The median value for \"PTS\" is 14.3, the min is 2.6 and the max is 30.1. The player who only scored 2.6 games in his career must've average a high number of Rebound/Assist/Steals/Blocks in order to be included in this list. The median value for \"TRB\" is 5.5, the min is 1.7 and the max is 22.9. This big difference in average rebounds per game shows why grouping by position when filling the missing values is important. The median value for \"AST\" is 2.75, the min is 0.3 and the max is 11.2. The median value for \"STL\" is 1, the min 0.2 and the max is 2.7. The median value for \"BLK\" is 0.4, the min is 0.0 and the max is 3.5. The median value for \"FG%\" is 0.4635, the min is 0.302 and the max is 0.599. Every player in the data at least average 30% throughout their career. The median value for \"3P%\" is 0.3025, the min is 0.00 and the max is 1.00. The median value for \"FT%\" is 0.769, the min is 0.414 and the max is 0.905. The median value for \"WS\" is 58.65, the min is -7.9 and the max is 273.4. The median value for \"WS/48\" is 0.1155, the min is -0.045 and the max is 0.25. Of the 500 players in the data, the most common position is \"SF\" with a count of 123. 387 out of the 500 players are not in the Hall of Fame, although some of these players are not eligible yet. The median value for \"Years Played\" is 12, the min is 4 and the max is 22."
   ]
  },
  {
   "cell_type": "markdown",
   "metadata": {},
   "source": [
    "Next, I will remove the players who are not eligible for the Hall of Fame and then create some boxplots. "
   ]
  },
  {
   "cell_type": "code",
   "execution_count": 14,
   "metadata": {},
   "outputs": [],
   "source": [
    "data_sub = data[data[\"To\"] > 2015]\n",
    "\n",
    "data_naoi = data[~data.isin(data_sub)].dropna()"
   ]
  },
  {
   "cell_type": "code",
   "execution_count": 15,
   "metadata": {},
   "outputs": [
    {
     "data": {
      "image/png": "[encoded data removed]",
      "text/plain": [
       "<Figure size 432x288 with 1 Axes>"
      ]
     },
     "metadata": {
      "needs_background": "light"
     },
     "output_type": "display_data"
    }
   ],
   "source": [
    "%matplotlib inline\n",
    "data_naoi.boxplot(column = 'Rank', by = 'HoF')\n",
    "plt.title(\"Boxplot of Rank by HoF\")\n",
    "plt.suptitle(\"\")\n",
    "plt.xlabel(\"Hall of Fame\")\n",
    "plt.ylabel(\"Rank\")\n",
    "plt.show()"
   ]
  },
  {
   "cell_type": "markdown",
   "metadata": {},
   "source": [
    "We can see that most of the players (around 75%) that are in the Hall of Fame are ranked in the top 100, besides 4 outliers."
   ]
  },
  {
   "cell_type": "code",
   "execution_count": 16,
   "metadata": {},
   "outputs": [
    {
     "data": {
      "image/png": "[encoded data removed]",
      "text/plain": [
       "<Figure size 432x288 with 1 Axes>"
      ]
     },
     "metadata": {
      "needs_background": "light"
     },
     "output_type": "display_data"
    }
   ],
   "source": [
    "%matplotlib inline\n",
    "data_naoi.boxplot(column = 'PTS', by = 'HoF')\n",
    "plt.title(\"Boxplot of Points Per Game by HoF\")\n",
    "plt.suptitle(\"\")\n",
    "plt.xlabel(\"Hall of Fame\")\n",
    "plt.ylabel(\"Points Per Game\")\n",
    "plt.show()"
   ]
  },
  {
   "cell_type": "markdown",
   "metadata": {},
   "source": [
    "We can that most of the players (around 75%) that are in the Hall of Fame averaged more than 15 points per game throughout their careers. The players not in the Hall of Fame tended to average between 10 and 15 points."
   ]
  },
  {
   "cell_type": "code",
   "execution_count": 17,
   "metadata": {},
   "outputs": [
    {
     "data": {
      "image/png": "[encoded data removed]",
      "text/plain": [
       "<Figure size 432x288 with 1 Axes>"
      ]
     },
     "metadata": {
      "needs_background": "light"
     },
     "output_type": "display_data"
    }
   ],
   "source": [
    "%matplotlib inline\n",
    "data_naoi.boxplot(column = 'WS', by = 'HoF')\n",
    "plt.title(\"Boxplot of Total Win Shares by HoF\")\n",
    "plt.suptitle(\"\")\n",
    "plt.xlabel(\"Hall of Fame\")\n",
    "plt.ylabel(\"Total Win Shares\")\n",
    "plt.show()"
   ]
  },
  {
   "cell_type": "markdown",
   "metadata": {},
   "source": [
    "Here we can see that players in the Hall of Fame had more Win Shares than players who are not in the Hall of Fame. "
   ]
  },
  {
   "cell_type": "code",
   "execution_count": 18,
   "metadata": {},
   "outputs": [
    {
     "data": {
      "image/png": "[encoded data removed]",
      "text/plain": [
       "<Figure size 432x288 with 1 Axes>"
      ]
     },
     "metadata": {
      "needs_background": "light"
     },
     "output_type": "display_data"
    }
   ],
   "source": [
    "%matplotlib inline\n",
    "data_naoi.boxplot(column = 'WS/48', by = 'HoF')\n",
    "plt.title(\"Boxplot of Win Shares per 48 Minutes by HoF\")\n",
    "plt.suptitle(\"\")\n",
    "plt.xlabel(\"Hall of Fame\")\n",
    "plt.ylabel(\"Win Shares Per 48 minutes (game)\")\n",
    "plt.show()"
   ]
  },
  {
   "cell_type": "markdown",
   "metadata": {},
   "source": [
    "Here we can see that players in the Hall of Fame averaged a higher Win Shares Per 48 minutes than players who are not in the Hall of Fame. There is one outlier for players in the Hall of Fame, however. "
   ]
  },
  {
   "cell_type": "code",
   "execution_count": 19,
   "metadata": {},
   "outputs": [
    {
     "data": {
      "image/png": "[encoded data removed]",
      "text/plain": [
       "<Figure size 432x288 with 1 Axes>"
      ]
     },
     "metadata": {
      "needs_background": "light"
     },
     "output_type": "display_data"
    }
   ],
   "source": [
    "%matplotlib inline\n",
    "data_naoi.boxplot(column = 'Years Played', by = 'HoF')\n",
    "plt.title(\"Boxplot of Total Years Played by HoF\")\n",
    "plt.suptitle(\"\")\n",
    "plt.xlabel(\"Hall of Fame\")\n",
    "plt.ylabel(\"Total Years Played\")\n",
    "plt.show()"
   ]
  },
  {
   "cell_type": "markdown",
   "metadata": {},
   "source": [
    "Here we can see that there is not that big of a difference for Total Years Played for Players who are in the Hall of Fame versus those who are not."
   ]
  },
  {
   "cell_type": "markdown",
   "metadata": {},
   "source": [
    "### Logistic Regression"
   ]
  },
  {
   "cell_type": "markdown",
   "metadata": {},
   "source": [
    "In order to perform Logistic Regression (using LogisticRegression from sklearn), I will first need to pre-process the data some more. I will create a subset called \"Validate,\" which will include all the players who are not eligible for the Hall of Fame. I will also need to separate the target variable, \"Hof\", and remove categorical variables \"Player\" and \"Position.\""
   ]
  },
  {
   "cell_type": "code",
   "execution_count": 20,
   "metadata": {},
   "outputs": [],
   "source": [
    "validate = data_sub.drop(['HoF', 'Position'], axis = 1)\n",
    "\n",
    "y = data_naoi['HoF']\n",
    "\n",
    "data_naoi = data_naoi.drop(['HoF', 'Position', 'Player'], axis = 1)"
   ]
  },
  {
   "cell_type": "markdown",
   "metadata": {},
   "source": [
    "Next, I will split the data into training and testing spits using a 0.2 split (80% of the data will be in the training and 20% in testing). After that, the data will be ready to be used in Logistic Regression."
   ]
  },
  {
   "cell_type": "code",
   "execution_count": 21,
   "metadata": {},
   "outputs": [],
   "source": [
    "nba_train, nba_test, hof_train, hof_test = train_test_split(data_naoi, y, test_size=0.2, random_state=33)"
   ]
  },
  {
   "cell_type": "code",
   "execution_count": 22,
   "metadata": {},
   "outputs": [
    {
     "name": "stderr",
     "output_type": "stream",
     "text": [
      "C:\\Users\\MWatson717\\Anaconda3\\lib\\site-packages\\sklearn\\linear_model\\logistic.py:432: FutureWarning: Default solver will be changed to 'lbfgs' in 0.22. Specify a solver to silence this warning.\n",
      "  FutureWarning)\n"
     ]
    },
    {
     "data": {
      "text/plain": [
       "LogisticRegression(C=1.0, class_weight=None, dual=False, fit_intercept=True,\n",
       "                   intercept_scaling=1, l1_ratio=None, max_iter=100,\n",
       "                   multi_class='warn', n_jobs=None, penalty='l2',\n",
       "                   random_state=None, solver='warn', tol=0.0001, verbose=0,\n",
       "                   warm_start=False)"
      ]
     },
     "execution_count": 22,
     "metadata": {},
     "output_type": "execute_result"
    }
   ],
   "source": [
    "lr = LogisticRegression()\n",
    "\n",
    "lr.fit(nba_train, hof_train)"
   ]
  },
  {
   "cell_type": "code",
   "execution_count": 23,
   "metadata": {},
   "outputs": [
    {
     "name": "stdout",
     "output_type": "stream",
     "text": [
      "Rank: -0.027\n",
      "From: 0.051\n",
      "To: -0.045\n",
      "G: -0.003\n",
      "MP: -0.159\n",
      "PTS: -0.084\n",
      "TRB: 0.074\n",
      "AST: -0.050\n",
      "STL: -0.002\n",
      "BLK: -0.013\n",
      "FG%: -0.015\n",
      "3P%: 0.007\n",
      "FT%: 0.007\n",
      "WS: 0.035\n",
      "WS/48: -0.001\n",
      "Years Played: -0.096\n",
      "\n",
      "\n",
      "[0.00259366]\n"
     ]
    }
   ],
   "source": [
    "col = list(data_naoi.columns)\n",
    "coef = lr.coef_\n",
    "for i in range(len(col)):\n",
    "    print(\"{}: {:0.3f}\".format(col[i], coef[0, i]))\n",
    "print(\"\\n\")\n",
    "print(lr.intercept_)"
   ]
  },
  {
   "cell_type": "markdown",
   "metadata": {},
   "source": [
    "In the above output, we first see the coefficients for each of the variables. IT looks like \"TRB\" has the largest positive impact on predicting HOF with a value of 0.081, while \"Years Played\" has the largest negative impact with a value of -0.097. The last value, 0.00366024, is the intercept. Next, I will use the test data to create a confusion matrix so we can see how the model performed. "
   ]
  },
  {
   "cell_type": "code",
   "execution_count": 24,
   "metadata": {},
   "outputs": [
    {
     "name": "stdout",
     "output_type": "stream",
     "text": [
      "[[71  4]\n",
      " [ 2 15]]\n"
     ]
    }
   ],
   "source": [
    "y_pred = lr.predict(nba_test)\n",
    "\n",
    "lr_cm = confusion_matrix(hof_test, y_pred)\n",
    "print(lr_cm)"
   ]
  },
  {
   "cell_type": "markdown",
   "metadata": {},
   "source": [
    "The model accurately predicted 71 \"0s\", misclassified 4 \"0s\" as \"1s\", misclassified 7 \"1s\" as \"0s\" and accurately predicted 15 \"1s\"."
   ]
  },
  {
   "cell_type": "code",
   "execution_count": 25,
   "metadata": {},
   "outputs": [
    {
     "name": "stdout",
     "output_type": "stream",
     "text": [
      "The Overall Accuracy is: 93.48%\n"
     ]
    }
   ],
   "source": [
    "acc = (lr_cm[0,0] + lr_cm[1,1]) / (lr_cm[0,0] + lr_cm[0,1] + lr_cm[1,0]+ lr_cm[1,1])\n",
    "print(\"The Overall Accuracy is: {:0.2f}%\".format(acc*100))"
   ]
  },
  {
   "cell_type": "markdown",
   "metadata": {},
   "source": [
    "This model performed quite well, as it accurately predicted over 93% of observations in the testing data. Next, I will compute predicted probabilities of entering the Hall of Fame for the currently ineligible players (saved in the datafarme \"validate\")."
   ]
  },
  {
   "cell_type": "code",
   "execution_count": 26,
   "metadata": {},
   "outputs": [
    {
     "name": "stdout",
     "output_type": "stream",
     "text": [
      "Probability of joining hall of fame: \n",
      "Tim Duncan: 99.296%\n",
      "Kobe Bryant: 91.735%\n",
      "Kevin Garnett: 96.261%\n",
      "LeBron James: 98.635%\n",
      "Dwyane Wade: 83.804%\n",
      "Dirk Nowitzki: 93.575%\n",
      "Paul Pierce: 69.493%\n",
      "Dwight Howard: 89.785%\n",
      "Pau Gasol: 78.208%\n",
      "Vince Carter: 33.875%\n",
      "Carmelo Anthony: 31.283%\n",
      "Chris Paul: 91.678%\n",
      "Deron Williams: 37.197%\n",
      "Tony Parker: 24.898%\n",
      "Metta World Peace: 14.747%\n",
      "Manu Ginóbili: 66.832%\n",
      "Amar'e Stoudemire: 55.978%\n",
      "Chris Bosh: 31.278%\n",
      "Elton Brand: 22.258%\n",
      "Joe Johnson: 2.268%\n",
      "Andre Miller: 1.228%\n",
      "David West: 4.199%\n",
      "Zach Randolph: 0.943%\n",
      "Caron Butler: 0.209%\n",
      "Andre Iguodala: 0.295%\n",
      "Jameer Nelson: 0.204%\n",
      "Al Jefferson: 0.413%\n",
      "Monta Ellis: 0.043%\n",
      "Tayshaun Prince: 0.124%\n",
      "Richard Jefferson: 0.069%\n",
      "Jason Terry: 0.028%\n",
      "Andrew Bogut: 0.123%\n",
      "Luol Deng: 0.023%\n",
      "Mike Miller: 0.019%\n",
      "Jamal Crawford: 0.002%\n",
      "Emeka Okafor: 0.030%\n",
      "Kevin Martin: 0.020%\n",
      "David Lee: 0.050%\n",
      "Devin Harris: 0.013%\n",
      "Drew Gooden: 0.011%\n",
      "Chris Kaman: 0.006%\n"
     ]
    }
   ],
   "source": [
    "players = list(validate['Player'])\n",
    "validate_nn = validate.drop('Player', axis = 1)\n",
    "probs = lr.predict_proba(validate_nn)\n",
    "\n",
    "print(\"Probability of joining hall of fame: \")\n",
    "for i in range(len(validate_nn)):\n",
    "    print(\"{}: {:0.3f}%\".format(players[i], probs[i, 1]*100))"
   ]
  },
  {
   "cell_type": "markdown",
   "metadata": {},
   "source": [
    "These results look accurate in my opinion. Players such as Tim Duncan, Kobe Bryant, Kevin Garnett, Lebron James, Dwyane Wade, Dirk Nowitzki and Chris Paul are all very well-known and have many NBA Finals appearances. It would be hard to argue that any of these players do not belong in the Hall of Fame. This model gives all these players greater than a 90% chance of being in the Hall of Fame."
   ]
  },
  {
   "cell_type": "markdown",
   "metadata": {},
   "source": [
    "The Logistic Regression Model gave me surprisingly good results. I had believed that things such as MVP, finals appearances, All Star, etc. would be greatly important in determining whether a player would be in Hall of Fame. This does not seem to be the case, however, as the model was able to accurately predict over 90% of the test data and gave reasonable probabilities for currently active or not yet eligible players to be in the hall of Fame. Let's see how a KNN model will perform."
   ]
  },
  {
   "cell_type": "markdown",
   "metadata": {},
   "source": [
    "### K-Nearest Neighbors"
   ]
  },
  {
   "cell_type": "markdown",
   "metadata": {},
   "source": [
    "Now I will run a K-Nearest Neighbors (KNN) model. I will again need to do some preprocessing of the data. I need to remove the \"Player\" variable, convert \"Position\" to dummy variables and then normalize the data."
   ]
  },
  {
   "cell_type": "code",
   "execution_count": 27,
   "metadata": {},
   "outputs": [],
   "source": [
    "data_norm = data.drop(['Player', 'HoF'], axis = 1)\n",
    "\n",
    "data_norm = pd.get_dummies(data_norm, columns = ['Position'])\n",
    "\n",
    "min_max_scaler = preprocessing.MinMaxScaler().fit(data_norm)\n",
    "data_norm = min_max_scaler.transform(data_norm)"
   ]
  },
  {
   "cell_type": "markdown",
   "metadata": {},
   "source": [
    "Now I need to remove the ineligible players from the data. Since the data is an array now, I need to select the indexes for both and columns to remove."
   ]
  },
  {
   "cell_type": "code",
   "execution_count": 28,
   "metadata": {},
   "outputs": [
    {
     "data": {
      "text/html": [
       "<div>\n",
       "<style scoped>\n",
       "    .dataframe tbody tr th:only-of-type {\n",
       "        vertical-align: middle;\n",
       "    }\n",
       "\n",
       "    .dataframe tbody tr th {\n",
       "        vertical-align: top;\n",
       "    }\n",
       "\n",
       "    .dataframe thead th {\n",
       "        text-align: right;\n",
       "    }\n",
       "</style>\n",
       "<table border=\"1\" class=\"dataframe\">\n",
       "  <thead>\n",
       "    <tr style=\"text-align: right;\">\n",
       "      <th></th>\n",
       "      <th>Rank</th>\n",
       "      <th>Player</th>\n",
       "      <th>From</th>\n",
       "      <th>To</th>\n",
       "      <th>G</th>\n",
       "      <th>MP</th>\n",
       "      <th>PTS</th>\n",
       "      <th>TRB</th>\n",
       "      <th>AST</th>\n",
       "      <th>STL</th>\n",
       "      <th>BLK</th>\n",
       "      <th>FG%</th>\n",
       "      <th>3P%</th>\n",
       "      <th>FT%</th>\n",
       "      <th>WS</th>\n",
       "      <th>WS/48</th>\n",
       "      <th>Years Played</th>\n",
       "    </tr>\n",
       "  </thead>\n",
       "  <tbody>\n",
       "    <tr>\n",
       "      <th>7</th>\n",
       "      <td>8.0</td>\n",
       "      <td>Tim Duncan</td>\n",
       "      <td>1998.0</td>\n",
       "      <td>2016.0</td>\n",
       "      <td>1392.0</td>\n",
       "      <td>34.0</td>\n",
       "      <td>19.0</td>\n",
       "      <td>10.8</td>\n",
       "      <td>3.0</td>\n",
       "      <td>0.7</td>\n",
       "      <td>2.2</td>\n",
       "      <td>0.506</td>\n",
       "      <td>0.179</td>\n",
       "      <td>0.696</td>\n",
       "      <td>206.4</td>\n",
       "      <td>0.209</td>\n",
       "      <td>18.0</td>\n",
       "    </tr>\n",
       "    <tr>\n",
       "      <th>9</th>\n",
       "      <td>10.0</td>\n",
       "      <td>Kobe Bryant</td>\n",
       "      <td>1997.0</td>\n",
       "      <td>2016.0</td>\n",
       "      <td>1346.0</td>\n",
       "      <td>36.1</td>\n",
       "      <td>25.0</td>\n",
       "      <td>5.2</td>\n",
       "      <td>4.7</td>\n",
       "      <td>1.4</td>\n",
       "      <td>0.5</td>\n",
       "      <td>0.447</td>\n",
       "      <td>0.329</td>\n",
       "      <td>0.837</td>\n",
       "      <td>172.7</td>\n",
       "      <td>0.170</td>\n",
       "      <td>19.0</td>\n",
       "    </tr>\n",
       "    <tr>\n",
       "      <th>29</th>\n",
       "      <td>30.0</td>\n",
       "      <td>Kevin Garnett</td>\n",
       "      <td>1996.0</td>\n",
       "      <td>2016.0</td>\n",
       "      <td>1462.0</td>\n",
       "      <td>34.5</td>\n",
       "      <td>17.8</td>\n",
       "      <td>10.0</td>\n",
       "      <td>3.7</td>\n",
       "      <td>1.3</td>\n",
       "      <td>1.4</td>\n",
       "      <td>0.497</td>\n",
       "      <td>0.275</td>\n",
       "      <td>0.789</td>\n",
       "      <td>191.4</td>\n",
       "      <td>0.182</td>\n",
       "      <td>20.0</td>\n",
       "    </tr>\n",
       "    <tr>\n",
       "      <th>30</th>\n",
       "      <td>31.0</td>\n",
       "      <td>LeBron James</td>\n",
       "      <td>2004.0</td>\n",
       "      <td>2019.0</td>\n",
       "      <td>1198.0</td>\n",
       "      <td>38.6</td>\n",
       "      <td>27.2</td>\n",
       "      <td>7.4</td>\n",
       "      <td>7.2</td>\n",
       "      <td>1.6</td>\n",
       "      <td>0.8</td>\n",
       "      <td>0.504</td>\n",
       "      <td>0.343</td>\n",
       "      <td>0.736</td>\n",
       "      <td>226.6</td>\n",
       "      <td>0.235</td>\n",
       "      <td>15.0</td>\n",
       "    </tr>\n",
       "    <tr>\n",
       "      <th>48</th>\n",
       "      <td>49.0</td>\n",
       "      <td>Dwyane Wade</td>\n",
       "      <td>2004.0</td>\n",
       "      <td>2019.0</td>\n",
       "      <td>1054.0</td>\n",
       "      <td>33.9</td>\n",
       "      <td>22.0</td>\n",
       "      <td>4.7</td>\n",
       "      <td>5.4</td>\n",
       "      <td>1.5</td>\n",
       "      <td>0.8</td>\n",
       "      <td>0.480</td>\n",
       "      <td>0.293</td>\n",
       "      <td>0.765</td>\n",
       "      <td>120.7</td>\n",
       "      <td>0.162</td>\n",
       "      <td>15.0</td>\n",
       "    </tr>\n",
       "    <tr>\n",
       "      <th>54</th>\n",
       "      <td>55.0</td>\n",
       "      <td>Dirk Nowitzki</td>\n",
       "      <td>1999.0</td>\n",
       "      <td>2019.0</td>\n",
       "      <td>1522.0</td>\n",
       "      <td>33.8</td>\n",
       "      <td>20.7</td>\n",
       "      <td>7.5</td>\n",
       "      <td>2.4</td>\n",
       "      <td>0.8</td>\n",
       "      <td>0.8</td>\n",
       "      <td>0.471</td>\n",
       "      <td>0.380</td>\n",
       "      <td>0.879</td>\n",
       "      <td>206.3</td>\n",
       "      <td>0.193</td>\n",
       "      <td>20.0</td>\n",
       "    </tr>\n",
       "    <tr>\n",
       "      <th>76</th>\n",
       "      <td>77.0</td>\n",
       "      <td>Paul Pierce</td>\n",
       "      <td>1999.0</td>\n",
       "      <td>2017.0</td>\n",
       "      <td>1343.0</td>\n",
       "      <td>34.2</td>\n",
       "      <td>19.7</td>\n",
       "      <td>5.6</td>\n",
       "      <td>3.5</td>\n",
       "      <td>1.3</td>\n",
       "      <td>0.6</td>\n",
       "      <td>0.445</td>\n",
       "      <td>0.368</td>\n",
       "      <td>0.806</td>\n",
       "      <td>150.0</td>\n",
       "      <td>0.157</td>\n",
       "      <td>18.0</td>\n",
       "    </tr>\n",
       "    <tr>\n",
       "      <th>85</th>\n",
       "      <td>86.0</td>\n",
       "      <td>Dwight Howard</td>\n",
       "      <td>2005.0</td>\n",
       "      <td>2019.0</td>\n",
       "      <td>1044.0</td>\n",
       "      <td>34.5</td>\n",
       "      <td>17.4</td>\n",
       "      <td>12.6</td>\n",
       "      <td>1.5</td>\n",
       "      <td>0.9</td>\n",
       "      <td>2.0</td>\n",
       "      <td>0.583</td>\n",
       "      <td>0.095</td>\n",
       "      <td>0.567</td>\n",
       "      <td>128.9</td>\n",
       "      <td>0.172</td>\n",
       "      <td>14.0</td>\n",
       "    </tr>\n",
       "    <tr>\n",
       "      <th>95</th>\n",
       "      <td>96.0</td>\n",
       "      <td>Pau Gasol</td>\n",
       "      <td>2002.0</td>\n",
       "      <td>2019.0</td>\n",
       "      <td>1226.0</td>\n",
       "      <td>33.4</td>\n",
       "      <td>17.0</td>\n",
       "      <td>9.2</td>\n",
       "      <td>3.2</td>\n",
       "      <td>0.5</td>\n",
       "      <td>1.6</td>\n",
       "      <td>0.507</td>\n",
       "      <td>0.368</td>\n",
       "      <td>0.753</td>\n",
       "      <td>144.1</td>\n",
       "      <td>0.169</td>\n",
       "      <td>17.0</td>\n",
       "    </tr>\n",
       "    <tr>\n",
       "      <th>98</th>\n",
       "      <td>99.0</td>\n",
       "      <td>Vince Carter</td>\n",
       "      <td>1999.0</td>\n",
       "      <td>2019.0</td>\n",
       "      <td>1481.0</td>\n",
       "      <td>30.7</td>\n",
       "      <td>17.2</td>\n",
       "      <td>4.4</td>\n",
       "      <td>3.2</td>\n",
       "      <td>1.0</td>\n",
       "      <td>0.6</td>\n",
       "      <td>0.437</td>\n",
       "      <td>0.374</td>\n",
       "      <td>0.798</td>\n",
       "      <td>125.5</td>\n",
       "      <td>0.132</td>\n",
       "      <td>20.0</td>\n",
       "    </tr>\n",
       "    <tr>\n",
       "      <th>104</th>\n",
       "      <td>105.0</td>\n",
       "      <td>Carmelo Anthony</td>\n",
       "      <td>2004.0</td>\n",
       "      <td>2019.0</td>\n",
       "      <td>1064.0</td>\n",
       "      <td>35.8</td>\n",
       "      <td>24.0</td>\n",
       "      <td>6.5</td>\n",
       "      <td>3.0</td>\n",
       "      <td>1.0</td>\n",
       "      <td>0.5</td>\n",
       "      <td>0.449</td>\n",
       "      <td>0.347</td>\n",
       "      <td>0.811</td>\n",
       "      <td>101.0</td>\n",
       "      <td>0.127</td>\n",
       "      <td>15.0</td>\n",
       "    </tr>\n",
       "    <tr>\n",
       "      <th>106</th>\n",
       "      <td>107.0</td>\n",
       "      <td>Chris Paul</td>\n",
       "      <td>2006.0</td>\n",
       "      <td>2019.0</td>\n",
       "      <td>950.0</td>\n",
       "      <td>35.1</td>\n",
       "      <td>18.5</td>\n",
       "      <td>4.5</td>\n",
       "      <td>9.7</td>\n",
       "      <td>2.2</td>\n",
       "      <td>0.1</td>\n",
       "      <td>0.469</td>\n",
       "      <td>0.370</td>\n",
       "      <td>0.868</td>\n",
       "      <td>171.5</td>\n",
       "      <td>0.247</td>\n",
       "      <td>13.0</td>\n",
       "    </tr>\n",
       "    <tr>\n",
       "      <th>127</th>\n",
       "      <td>128.0</td>\n",
       "      <td>Deron Williams</td>\n",
       "      <td>2006.0</td>\n",
       "      <td>2017.0</td>\n",
       "      <td>845.0</td>\n",
       "      <td>34.2</td>\n",
       "      <td>16.3</td>\n",
       "      <td>3.1</td>\n",
       "      <td>8.1</td>\n",
       "      <td>1.0</td>\n",
       "      <td>0.2</td>\n",
       "      <td>0.445</td>\n",
       "      <td>0.357</td>\n",
       "      <td>0.822</td>\n",
       "      <td>77.3</td>\n",
       "      <td>0.129</td>\n",
       "      <td>11.0</td>\n",
       "    </tr>\n",
       "    <tr>\n",
       "      <th>138</th>\n",
       "      <td>139.0</td>\n",
       "      <td>Tony Parker</td>\n",
       "      <td>2002.0</td>\n",
       "      <td>2019.0</td>\n",
       "      <td>1254.0</td>\n",
       "      <td>30.5</td>\n",
       "      <td>15.5</td>\n",
       "      <td>2.7</td>\n",
       "      <td>5.6</td>\n",
       "      <td>0.8</td>\n",
       "      <td>0.1</td>\n",
       "      <td>0.491</td>\n",
       "      <td>0.324</td>\n",
       "      <td>0.751</td>\n",
       "      <td>111.3</td>\n",
       "      <td>0.140</td>\n",
       "      <td>17.0</td>\n",
       "    </tr>\n",
       "    <tr>\n",
       "      <th>139</th>\n",
       "      <td>140.0</td>\n",
       "      <td>Metta World Peace</td>\n",
       "      <td>2000.0</td>\n",
       "      <td>2017.0</td>\n",
       "      <td>991.0</td>\n",
       "      <td>31.7</td>\n",
       "      <td>13.2</td>\n",
       "      <td>4.5</td>\n",
       "      <td>2.7</td>\n",
       "      <td>1.7</td>\n",
       "      <td>0.5</td>\n",
       "      <td>0.414</td>\n",
       "      <td>0.339</td>\n",
       "      <td>0.715</td>\n",
       "      <td>61.1</td>\n",
       "      <td>0.093</td>\n",
       "      <td>17.0</td>\n",
       "    </tr>\n",
       "    <tr>\n",
       "      <th>142</th>\n",
       "      <td>143.0</td>\n",
       "      <td>Manu Ginóbili</td>\n",
       "      <td>2003.0</td>\n",
       "      <td>2018.0</td>\n",
       "      <td>1057.0</td>\n",
       "      <td>25.4</td>\n",
       "      <td>13.3</td>\n",
       "      <td>3.5</td>\n",
       "      <td>3.8</td>\n",
       "      <td>1.3</td>\n",
       "      <td>0.3</td>\n",
       "      <td>0.447</td>\n",
       "      <td>0.369</td>\n",
       "      <td>0.827</td>\n",
       "      <td>106.4</td>\n",
       "      <td>0.190</td>\n",
       "      <td>15.0</td>\n",
       "    </tr>\n",
       "    <tr>\n",
       "      <th>143</th>\n",
       "      <td>144.0</td>\n",
       "      <td>Amar'e Stoudemire</td>\n",
       "      <td>2003.0</td>\n",
       "      <td>2016.0</td>\n",
       "      <td>846.0</td>\n",
       "      <td>31.0</td>\n",
       "      <td>18.9</td>\n",
       "      <td>7.8</td>\n",
       "      <td>1.2</td>\n",
       "      <td>0.8</td>\n",
       "      <td>1.2</td>\n",
       "      <td>0.537</td>\n",
       "      <td>0.236</td>\n",
       "      <td>0.761</td>\n",
       "      <td>92.5</td>\n",
       "      <td>0.169</td>\n",
       "      <td>13.0</td>\n",
       "    </tr>\n",
       "    <tr>\n",
       "      <th>170</th>\n",
       "      <td>171.0</td>\n",
       "      <td>Chris Bosh</td>\n",
       "      <td>2004.0</td>\n",
       "      <td>2016.0</td>\n",
       "      <td>893.0</td>\n",
       "      <td>35.8</td>\n",
       "      <td>19.2</td>\n",
       "      <td>8.5</td>\n",
       "      <td>2.0</td>\n",
       "      <td>0.8</td>\n",
       "      <td>1.0</td>\n",
       "      <td>0.494</td>\n",
       "      <td>0.335</td>\n",
       "      <td>0.799</td>\n",
       "      <td>106.0</td>\n",
       "      <td>0.159</td>\n",
       "      <td>12.0</td>\n",
       "    </tr>\n",
       "    <tr>\n",
       "      <th>176</th>\n",
       "      <td>177.0</td>\n",
       "      <td>Elton Brand</td>\n",
       "      <td>2000.0</td>\n",
       "      <td>2016.0</td>\n",
       "      <td>1058.0</td>\n",
       "      <td>33.0</td>\n",
       "      <td>15.9</td>\n",
       "      <td>8.5</td>\n",
       "      <td>2.1</td>\n",
       "      <td>0.9</td>\n",
       "      <td>1.7</td>\n",
       "      <td>0.500</td>\n",
       "      <td>0.095</td>\n",
       "      <td>0.736</td>\n",
       "      <td>109.6</td>\n",
       "      <td>0.151</td>\n",
       "      <td>16.0</td>\n",
       "    </tr>\n",
       "    <tr>\n",
       "      <th>183</th>\n",
       "      <td>184.0</td>\n",
       "      <td>Joe Johnson</td>\n",
       "      <td>2002.0</td>\n",
       "      <td>2018.0</td>\n",
       "      <td>1276.0</td>\n",
       "      <td>34.7</td>\n",
       "      <td>16.0</td>\n",
       "      <td>4.0</td>\n",
       "      <td>3.9</td>\n",
       "      <td>0.8</td>\n",
       "      <td>0.2</td>\n",
       "      <td>0.441</td>\n",
       "      <td>0.371</td>\n",
       "      <td>0.802</td>\n",
       "      <td>82.8</td>\n",
       "      <td>0.090</td>\n",
       "      <td>16.0</td>\n",
       "    </tr>\n",
       "    <tr>\n",
       "      <th>254</th>\n",
       "      <td>255.0</td>\n",
       "      <td>Andre Miller</td>\n",
       "      <td>2000.0</td>\n",
       "      <td>2016.0</td>\n",
       "      <td>1304.0</td>\n",
       "      <td>30.9</td>\n",
       "      <td>12.5</td>\n",
       "      <td>3.7</td>\n",
       "      <td>6.5</td>\n",
       "      <td>1.2</td>\n",
       "      <td>0.2</td>\n",
       "      <td>0.461</td>\n",
       "      <td>0.217</td>\n",
       "      <td>0.807</td>\n",
       "      <td>100.8</td>\n",
       "      <td>0.120</td>\n",
       "      <td>16.0</td>\n",
       "    </tr>\n",
       "    <tr>\n",
       "      <th>260</th>\n",
       "      <td>261.0</td>\n",
       "      <td>David West</td>\n",
       "      <td>2004.0</td>\n",
       "      <td>2018.0</td>\n",
       "      <td>1034.0</td>\n",
       "      <td>28.2</td>\n",
       "      <td>13.6</td>\n",
       "      <td>6.4</td>\n",
       "      <td>2.2</td>\n",
       "      <td>0.7</td>\n",
       "      <td>0.8</td>\n",
       "      <td>0.495</td>\n",
       "      <td>0.265</td>\n",
       "      <td>0.817</td>\n",
       "      <td>85.9</td>\n",
       "      <td>0.141</td>\n",
       "      <td>14.0</td>\n",
       "    </tr>\n",
       "    <tr>\n",
       "      <th>272</th>\n",
       "      <td>273.0</td>\n",
       "      <td>Zach Randolph</td>\n",
       "      <td>2002.0</td>\n",
       "      <td>2018.0</td>\n",
       "      <td>1116.0</td>\n",
       "      <td>31.0</td>\n",
       "      <td>16.6</td>\n",
       "      <td>9.1</td>\n",
       "      <td>1.8</td>\n",
       "      <td>0.7</td>\n",
       "      <td>0.3</td>\n",
       "      <td>0.471</td>\n",
       "      <td>0.273</td>\n",
       "      <td>0.764</td>\n",
       "      <td>81.1</td>\n",
       "      <td>0.112</td>\n",
       "      <td>16.0</td>\n",
       "    </tr>\n",
       "    <tr>\n",
       "      <th>323</th>\n",
       "      <td>324.0</td>\n",
       "      <td>Caron Butler</td>\n",
       "      <td>2003.0</td>\n",
       "      <td>2016.0</td>\n",
       "      <td>881.0</td>\n",
       "      <td>32.2</td>\n",
       "      <td>14.1</td>\n",
       "      <td>5.0</td>\n",
       "      <td>2.3</td>\n",
       "      <td>1.3</td>\n",
       "      <td>0.2</td>\n",
       "      <td>0.434</td>\n",
       "      <td>0.348</td>\n",
       "      <td>0.847</td>\n",
       "      <td>50.9</td>\n",
       "      <td>0.086</td>\n",
       "      <td>13.0</td>\n",
       "    </tr>\n",
       "    <tr>\n",
       "      <th>332</th>\n",
       "      <td>333.0</td>\n",
       "      <td>Andre Iguodala</td>\n",
       "      <td>2005.0</td>\n",
       "      <td>2019.0</td>\n",
       "      <td>1108.0</td>\n",
       "      <td>33.4</td>\n",
       "      <td>12.1</td>\n",
       "      <td>5.1</td>\n",
       "      <td>4.4</td>\n",
       "      <td>1.5</td>\n",
       "      <td>0.5</td>\n",
       "      <td>0.466</td>\n",
       "      <td>0.333</td>\n",
       "      <td>0.710</td>\n",
       "      <td>96.4</td>\n",
       "      <td>0.125</td>\n",
       "      <td>14.0</td>\n",
       "    </tr>\n",
       "    <tr>\n",
       "      <th>345</th>\n",
       "      <td>346.0</td>\n",
       "      <td>Jameer Nelson</td>\n",
       "      <td>2005.0</td>\n",
       "      <td>2018.0</td>\n",
       "      <td>878.0</td>\n",
       "      <td>27.9</td>\n",
       "      <td>11.3</td>\n",
       "      <td>3.0</td>\n",
       "      <td>5.1</td>\n",
       "      <td>0.9</td>\n",
       "      <td>0.1</td>\n",
       "      <td>0.436</td>\n",
       "      <td>0.368</td>\n",
       "      <td>0.810</td>\n",
       "      <td>48.3</td>\n",
       "      <td>0.094</td>\n",
       "      <td>13.0</td>\n",
       "    </tr>\n",
       "    <tr>\n",
       "      <th>346</th>\n",
       "      <td>347.0</td>\n",
       "      <td>Al Jefferson</td>\n",
       "      <td>2005.0</td>\n",
       "      <td>2018.0</td>\n",
       "      <td>915.0</td>\n",
       "      <td>28.7</td>\n",
       "      <td>15.7</td>\n",
       "      <td>8.4</td>\n",
       "      <td>1.5</td>\n",
       "      <td>0.7</td>\n",
       "      <td>1.2</td>\n",
       "      <td>0.499</td>\n",
       "      <td>0.121</td>\n",
       "      <td>0.711</td>\n",
       "      <td>71.0</td>\n",
       "      <td>0.130</td>\n",
       "      <td>13.0</td>\n",
       "    </tr>\n",
       "    <tr>\n",
       "      <th>352</th>\n",
       "      <td>353.0</td>\n",
       "      <td>Monta Ellis</td>\n",
       "      <td>2006.0</td>\n",
       "      <td>2017.0</td>\n",
       "      <td>833.0</td>\n",
       "      <td>34.8</td>\n",
       "      <td>17.8</td>\n",
       "      <td>3.5</td>\n",
       "      <td>4.6</td>\n",
       "      <td>1.7</td>\n",
       "      <td>0.3</td>\n",
       "      <td>0.451</td>\n",
       "      <td>0.314</td>\n",
       "      <td>0.772</td>\n",
       "      <td>41.9</td>\n",
       "      <td>0.069</td>\n",
       "      <td>11.0</td>\n",
       "    </tr>\n",
       "    <tr>\n",
       "      <th>356</th>\n",
       "      <td>357.0</td>\n",
       "      <td>Tayshaun Prince</td>\n",
       "      <td>2003.0</td>\n",
       "      <td>2016.0</td>\n",
       "      <td>1017.0</td>\n",
       "      <td>31.0</td>\n",
       "      <td>11.1</td>\n",
       "      <td>4.3</td>\n",
       "      <td>2.4</td>\n",
       "      <td>0.6</td>\n",
       "      <td>0.5</td>\n",
       "      <td>0.455</td>\n",
       "      <td>0.367</td>\n",
       "      <td>0.756</td>\n",
       "      <td>63.1</td>\n",
       "      <td>0.096</td>\n",
       "      <td>13.0</td>\n",
       "    </tr>\n",
       "    <tr>\n",
       "      <th>375</th>\n",
       "      <td>376.0</td>\n",
       "      <td>Richard Jefferson</td>\n",
       "      <td>2002.0</td>\n",
       "      <td>2018.0</td>\n",
       "      <td>1181.0</td>\n",
       "      <td>29.0</td>\n",
       "      <td>12.6</td>\n",
       "      <td>4.0</td>\n",
       "      <td>2.0</td>\n",
       "      <td>0.7</td>\n",
       "      <td>0.3</td>\n",
       "      <td>0.464</td>\n",
       "      <td>0.376</td>\n",
       "      <td>0.768</td>\n",
       "      <td>83.0</td>\n",
       "      <td>0.116</td>\n",
       "      <td>16.0</td>\n",
       "    </tr>\n",
       "    <tr>\n",
       "      <th>379</th>\n",
       "      <td>380.0</td>\n",
       "      <td>Jason Terry</td>\n",
       "      <td>2000.0</td>\n",
       "      <td>2018.0</td>\n",
       "      <td>1410.0</td>\n",
       "      <td>29.8</td>\n",
       "      <td>13.4</td>\n",
       "      <td>2.3</td>\n",
       "      <td>3.8</td>\n",
       "      <td>1.1</td>\n",
       "      <td>0.2</td>\n",
       "      <td>0.444</td>\n",
       "      <td>0.380</td>\n",
       "      <td>0.845</td>\n",
       "      <td>102.0</td>\n",
       "      <td>0.116</td>\n",
       "      <td>18.0</td>\n",
       "    </tr>\n",
       "    <tr>\n",
       "      <th>413</th>\n",
       "      <td>414.0</td>\n",
       "      <td>Andrew Bogut</td>\n",
       "      <td>2006.0</td>\n",
       "      <td>2019.0</td>\n",
       "      <td>706.0</td>\n",
       "      <td>28.1</td>\n",
       "      <td>9.6</td>\n",
       "      <td>8.7</td>\n",
       "      <td>2.2</td>\n",
       "      <td>0.6</td>\n",
       "      <td>1.5</td>\n",
       "      <td>0.535</td>\n",
       "      <td>0.120</td>\n",
       "      <td>0.557</td>\n",
       "      <td>50.6</td>\n",
       "      <td>0.122</td>\n",
       "      <td>13.0</td>\n",
       "    </tr>\n",
       "    <tr>\n",
       "      <th>417</th>\n",
       "      <td>418.0</td>\n",
       "      <td>Luol Deng</td>\n",
       "      <td>2005.0</td>\n",
       "      <td>2019.0</td>\n",
       "      <td>902.0</td>\n",
       "      <td>34.3</td>\n",
       "      <td>14.8</td>\n",
       "      <td>6.1</td>\n",
       "      <td>2.3</td>\n",
       "      <td>1.0</td>\n",
       "      <td>0.5</td>\n",
       "      <td>0.456</td>\n",
       "      <td>0.332</td>\n",
       "      <td>0.769</td>\n",
       "      <td>74.0</td>\n",
       "      <td>0.115</td>\n",
       "      <td>14.0</td>\n",
       "    </tr>\n",
       "    <tr>\n",
       "      <th>430</th>\n",
       "      <td>431.0</td>\n",
       "      <td>Mike Miller</td>\n",
       "      <td>2001.0</td>\n",
       "      <td>2017.0</td>\n",
       "      <td>1032.0</td>\n",
       "      <td>26.9</td>\n",
       "      <td>10.6</td>\n",
       "      <td>4.2</td>\n",
       "      <td>2.6</td>\n",
       "      <td>0.6</td>\n",
       "      <td>0.2</td>\n",
       "      <td>0.459</td>\n",
       "      <td>0.407</td>\n",
       "      <td>0.769</td>\n",
       "      <td>60.7</td>\n",
       "      <td>0.105</td>\n",
       "      <td>16.0</td>\n",
       "    </tr>\n",
       "    <tr>\n",
       "      <th>439</th>\n",
       "      <td>440.0</td>\n",
       "      <td>Jamal Crawford</td>\n",
       "      <td>2001.0</td>\n",
       "      <td>2019.0</td>\n",
       "      <td>1326.0</td>\n",
       "      <td>29.4</td>\n",
       "      <td>14.6</td>\n",
       "      <td>2.2</td>\n",
       "      <td>3.4</td>\n",
       "      <td>0.9</td>\n",
       "      <td>0.2</td>\n",
       "      <td>0.410</td>\n",
       "      <td>0.348</td>\n",
       "      <td>0.862</td>\n",
       "      <td>60.6</td>\n",
       "      <td>0.075</td>\n",
       "      <td>18.0</td>\n",
       "    </tr>\n",
       "    <tr>\n",
       "      <th>451</th>\n",
       "      <td>452.0</td>\n",
       "      <td>Emeka Okafor</td>\n",
       "      <td>2005.0</td>\n",
       "      <td>2018.0</td>\n",
       "      <td>616.0</td>\n",
       "      <td>30.9</td>\n",
       "      <td>12.0</td>\n",
       "      <td>9.7</td>\n",
       "      <td>0.8</td>\n",
       "      <td>0.7</td>\n",
       "      <td>1.6</td>\n",
       "      <td>0.512</td>\n",
       "      <td>0.000</td>\n",
       "      <td>0.586</td>\n",
       "      <td>45.3</td>\n",
       "      <td>0.114</td>\n",
       "      <td>13.0</td>\n",
       "    </tr>\n",
       "    <tr>\n",
       "      <th>454</th>\n",
       "      <td>455.0</td>\n",
       "      <td>Kevin Martin</td>\n",
       "      <td>2005.0</td>\n",
       "      <td>2016.0</td>\n",
       "      <td>714.0</td>\n",
       "      <td>30.2</td>\n",
       "      <td>17.4</td>\n",
       "      <td>3.2</td>\n",
       "      <td>1.9</td>\n",
       "      <td>0.9</td>\n",
       "      <td>0.1</td>\n",
       "      <td>0.437</td>\n",
       "      <td>0.384</td>\n",
       "      <td>0.870</td>\n",
       "      <td>61.3</td>\n",
       "      <td>0.137</td>\n",
       "      <td>11.0</td>\n",
       "    </tr>\n",
       "    <tr>\n",
       "      <th>457</th>\n",
       "      <td>458.0</td>\n",
       "      <td>David Lee</td>\n",
       "      <td>2006.0</td>\n",
       "      <td>2017.0</td>\n",
       "      <td>829.0</td>\n",
       "      <td>29.3</td>\n",
       "      <td>13.5</td>\n",
       "      <td>8.8</td>\n",
       "      <td>2.2</td>\n",
       "      <td>0.8</td>\n",
       "      <td>0.4</td>\n",
       "      <td>0.535</td>\n",
       "      <td>0.034</td>\n",
       "      <td>0.772</td>\n",
       "      <td>76.0</td>\n",
       "      <td>0.150</td>\n",
       "      <td>11.0</td>\n",
       "    </tr>\n",
       "    <tr>\n",
       "      <th>460</th>\n",
       "      <td>461.0</td>\n",
       "      <td>Devin Harris</td>\n",
       "      <td>2005.0</td>\n",
       "      <td>2019.0</td>\n",
       "      <td>985.0</td>\n",
       "      <td>24.3</td>\n",
       "      <td>10.8</td>\n",
       "      <td>2.2</td>\n",
       "      <td>3.9</td>\n",
       "      <td>1.0</td>\n",
       "      <td>0.2</td>\n",
       "      <td>0.432</td>\n",
       "      <td>0.325</td>\n",
       "      <td>0.796</td>\n",
       "      <td>54.9</td>\n",
       "      <td>0.110</td>\n",
       "      <td>14.0</td>\n",
       "    </tr>\n",
       "    <tr>\n",
       "      <th>494</th>\n",
       "      <td>495.0</td>\n",
       "      <td>Drew Gooden</td>\n",
       "      <td>2003.0</td>\n",
       "      <td>2016.0</td>\n",
       "      <td>790.0</td>\n",
       "      <td>25.5</td>\n",
       "      <td>11.0</td>\n",
       "      <td>7.1</td>\n",
       "      <td>1.1</td>\n",
       "      <td>0.7</td>\n",
       "      <td>0.6</td>\n",
       "      <td>0.462</td>\n",
       "      <td>0.257</td>\n",
       "      <td>0.760</td>\n",
       "      <td>43.9</td>\n",
       "      <td>0.105</td>\n",
       "      <td>13.0</td>\n",
       "    </tr>\n",
       "    <tr>\n",
       "      <th>496</th>\n",
       "      <td>497.0</td>\n",
       "      <td>Chris Kaman</td>\n",
       "      <td>2004.0</td>\n",
       "      <td>2016.0</td>\n",
       "      <td>735.0</td>\n",
       "      <td>26.7</td>\n",
       "      <td>11.2</td>\n",
       "      <td>7.6</td>\n",
       "      <td>1.3</td>\n",
       "      <td>0.4</td>\n",
       "      <td>1.3</td>\n",
       "      <td>0.489</td>\n",
       "      <td>0.042</td>\n",
       "      <td>0.743</td>\n",
       "      <td>24.6</td>\n",
       "      <td>0.060</td>\n",
       "      <td>12.0</td>\n",
       "    </tr>\n",
       "  </tbody>\n",
       "</table>\n",
       "</div>"
      ],
      "text/plain": [
       "      Rank             Player    From      To       G    MP   PTS   TRB  AST  \\\n",
       "7      8.0         Tim Duncan  1998.0  2016.0  1392.0  34.0  19.0  10.8  3.0   \n",
       "9     10.0        Kobe Bryant  1997.0  2016.0  1346.0  36.1  25.0   5.2  4.7   \n",
       "29    30.0      Kevin Garnett  1996.0  2016.0  1462.0  34.5  17.8  10.0  3.7   \n",
       "30    31.0       LeBron James  2004.0  2019.0  1198.0  38.6  27.2   7.4  7.2   \n",
       "48    49.0        Dwyane Wade  2004.0  2019.0  1054.0  33.9  22.0   4.7  5.4   \n",
       "54    55.0      Dirk Nowitzki  1999.0  2019.0  1522.0  33.8  20.7   7.5  2.4   \n",
       "76    77.0        Paul Pierce  1999.0  2017.0  1343.0  34.2  19.7   5.6  3.5   \n",
       "85    86.0      Dwight Howard  2005.0  2019.0  1044.0  34.5  17.4  12.6  1.5   \n",
       "95    96.0          Pau Gasol  2002.0  2019.0  1226.0  33.4  17.0   9.2  3.2   \n",
       "98    99.0       Vince Carter  1999.0  2019.0  1481.0  30.7  17.2   4.4  3.2   \n",
       "104  105.0    Carmelo Anthony  2004.0  2019.0  1064.0  35.8  24.0   6.5  3.0   \n",
       "106  107.0         Chris Paul  2006.0  2019.0   950.0  35.1  18.5   4.5  9.7   \n",
       "127  128.0     Deron Williams  2006.0  2017.0   845.0  34.2  16.3   3.1  8.1   \n",
       "138  139.0        Tony Parker  2002.0  2019.0  1254.0  30.5  15.5   2.7  5.6   \n",
       "139  140.0  Metta World Peace  2000.0  2017.0   991.0  31.7  13.2   4.5  2.7   \n",
       "142  143.0      Manu Ginóbili  2003.0  2018.0  1057.0  25.4  13.3   3.5  3.8   \n",
       "143  144.0  Amar'e Stoudemire  2003.0  2016.0   846.0  31.0  18.9   7.8  1.2   \n",
       "170  171.0         Chris Bosh  2004.0  2016.0   893.0  35.8  19.2   8.5  2.0   \n",
       "176  177.0        Elton Brand  2000.0  2016.0  1058.0  33.0  15.9   8.5  2.1   \n",
       "183  184.0        Joe Johnson  2002.0  2018.0  1276.0  34.7  16.0   4.0  3.9   \n",
       "254  255.0       Andre Miller  2000.0  2016.0  1304.0  30.9  12.5   3.7  6.5   \n",
       "260  261.0         David West  2004.0  2018.0  1034.0  28.2  13.6   6.4  2.2   \n",
       "272  273.0      Zach Randolph  2002.0  2018.0  1116.0  31.0  16.6   9.1  1.8   \n",
       "323  324.0       Caron Butler  2003.0  2016.0   881.0  32.2  14.1   5.0  2.3   \n",
       "332  333.0     Andre Iguodala  2005.0  2019.0  1108.0  33.4  12.1   5.1  4.4   \n",
       "345  346.0      Jameer Nelson  2005.0  2018.0   878.0  27.9  11.3   3.0  5.1   \n",
       "346  347.0       Al Jefferson  2005.0  2018.0   915.0  28.7  15.7   8.4  1.5   \n",
       "352  353.0        Monta Ellis  2006.0  2017.0   833.0  34.8  17.8   3.5  4.6   \n",
       "356  357.0    Tayshaun Prince  2003.0  2016.0  1017.0  31.0  11.1   4.3  2.4   \n",
       "375  376.0  Richard Jefferson  2002.0  2018.0  1181.0  29.0  12.6   4.0  2.0   \n",
       "379  380.0        Jason Terry  2000.0  2018.0  1410.0  29.8  13.4   2.3  3.8   \n",
       "413  414.0       Andrew Bogut  2006.0  2019.0   706.0  28.1   9.6   8.7  2.2   \n",
       "417  418.0          Luol Deng  2005.0  2019.0   902.0  34.3  14.8   6.1  2.3   \n",
       "430  431.0        Mike Miller  2001.0  2017.0  1032.0  26.9  10.6   4.2  2.6   \n",
       "439  440.0     Jamal Crawford  2001.0  2019.0  1326.0  29.4  14.6   2.2  3.4   \n",
       "451  452.0       Emeka Okafor  2005.0  2018.0   616.0  30.9  12.0   9.7  0.8   \n",
       "454  455.0       Kevin Martin  2005.0  2016.0   714.0  30.2  17.4   3.2  1.9   \n",
       "457  458.0          David Lee  2006.0  2017.0   829.0  29.3  13.5   8.8  2.2   \n",
       "460  461.0       Devin Harris  2005.0  2019.0   985.0  24.3  10.8   2.2  3.9   \n",
       "494  495.0        Drew Gooden  2003.0  2016.0   790.0  25.5  11.0   7.1  1.1   \n",
       "496  497.0        Chris Kaman  2004.0  2016.0   735.0  26.7  11.2   7.6  1.3   \n",
       "\n",
       "     STL  BLK    FG%    3P%    FT%     WS  WS/48  Years Played  \n",
       "7    0.7  2.2  0.506  0.179  0.696  206.4  0.209          18.0  \n",
       "9    1.4  0.5  0.447  0.329  0.837  172.7  0.170          19.0  \n",
       "29   1.3  1.4  0.497  0.275  0.789  191.4  0.182          20.0  \n",
       "30   1.6  0.8  0.504  0.343  0.736  226.6  0.235          15.0  \n",
       "48   1.5  0.8  0.480  0.293  0.765  120.7  0.162          15.0  \n",
       "54   0.8  0.8  0.471  0.380  0.879  206.3  0.193          20.0  \n",
       "76   1.3  0.6  0.445  0.368  0.806  150.0  0.157          18.0  \n",
       "85   0.9  2.0  0.583  0.095  0.567  128.9  0.172          14.0  \n",
       "95   0.5  1.6  0.507  0.368  0.753  144.1  0.169          17.0  \n",
       "98   1.0  0.6  0.437  0.374  0.798  125.5  0.132          20.0  \n",
       "104  1.0  0.5  0.449  0.347  0.811  101.0  0.127          15.0  \n",
       "106  2.2  0.1  0.469  0.370  0.868  171.5  0.247          13.0  \n",
       "127  1.0  0.2  0.445  0.357  0.822   77.3  0.129          11.0  \n",
       "138  0.8  0.1  0.491  0.324  0.751  111.3  0.140          17.0  \n",
       "139  1.7  0.5  0.414  0.339  0.715   61.1  0.093          17.0  \n",
       "142  1.3  0.3  0.447  0.369  0.827  106.4  0.190          15.0  \n",
       "143  0.8  1.2  0.537  0.236  0.761   92.5  0.169          13.0  \n",
       "170  0.8  1.0  0.494  0.335  0.799  106.0  0.159          12.0  \n",
       "176  0.9  1.7  0.500  0.095  0.736  109.6  0.151          16.0  \n",
       "183  0.8  0.2  0.441  0.371  0.802   82.8  0.090          16.0  \n",
       "254  1.2  0.2  0.461  0.217  0.807  100.8  0.120          16.0  \n",
       "260  0.7  0.8  0.495  0.265  0.817   85.9  0.141          14.0  \n",
       "272  0.7  0.3  0.471  0.273  0.764   81.1  0.112          16.0  \n",
       "323  1.3  0.2  0.434  0.348  0.847   50.9  0.086          13.0  \n",
       "332  1.5  0.5  0.466  0.333  0.710   96.4  0.125          14.0  \n",
       "345  0.9  0.1  0.436  0.368  0.810   48.3  0.094          13.0  \n",
       "346  0.7  1.2  0.499  0.121  0.711   71.0  0.130          13.0  \n",
       "352  1.7  0.3  0.451  0.314  0.772   41.9  0.069          11.0  \n",
       "356  0.6  0.5  0.455  0.367  0.756   63.1  0.096          13.0  \n",
       "375  0.7  0.3  0.464  0.376  0.768   83.0  0.116          16.0  \n",
       "379  1.1  0.2  0.444  0.380  0.845  102.0  0.116          18.0  \n",
       "413  0.6  1.5  0.535  0.120  0.557   50.6  0.122          13.0  \n",
       "417  1.0  0.5  0.456  0.332  0.769   74.0  0.115          14.0  \n",
       "430  0.6  0.2  0.459  0.407  0.769   60.7  0.105          16.0  \n",
       "439  0.9  0.2  0.410  0.348  0.862   60.6  0.075          18.0  \n",
       "451  0.7  1.6  0.512  0.000  0.586   45.3  0.114          13.0  \n",
       "454  0.9  0.1  0.437  0.384  0.870   61.3  0.137          11.0  \n",
       "457  0.8  0.4  0.535  0.034  0.772   76.0  0.150          11.0  \n",
       "460  1.0  0.2  0.432  0.325  0.796   54.9  0.110          14.0  \n",
       "494  0.7  0.6  0.462  0.257  0.760   43.9  0.105          13.0  \n",
       "496  0.4  1.3  0.489  0.042  0.743   24.6  0.060          12.0  "
      ]
     },
     "execution_count": 28,
     "metadata": {},
     "output_type": "execute_result"
    }
   ],
   "source": [
    "validate"
   ]
  },
  {
   "cell_type": "markdown",
   "metadata": {},
   "source": [
    "The first column is the index I will need to use for the rows, and I will also need to specify that I will be removing all the columns for these rows. "
   ]
  },
  {
   "cell_type": "code",
   "execution_count": 29,
   "metadata": {},
   "outputs": [],
   "source": [
    "row_ix = np.array([7, 9, 29, 30, 48, 54, 76, 85, 95, 98, 104, 106, 127, 138, 139, 142, 143, 170, 176, 183, 254, \n",
    "                   260, 272, 323, 332, 345, 346, 352, 356, 375, 379, 413, 417, 430, 439, 451, 454, 457, 460, 494, 496])\n",
    "    \n",
    "col_ix = np.array([0, 1, 1, 3, 4, 5, 6, 7, 8, 9, 10, 11, 12, 13, 14, 15, 16, 17, 18, 19, 20])\n",
    "\n",
    "val = data_norm[row_ix[:, None], col_ix]\n",
    "\n",
    "data_norm = np.delete(data_norm, row_ix, 0)"
   ]
  },
  {
   "cell_type": "markdown",
   "metadata": {},
   "source": [
    "\"val\" is the array containing the data for the ineligible players. I dropped this data from \"data_norm\". Next, I will create a train/test split of the data. "
   ]
  },
  {
   "cell_type": "code",
   "execution_count": 30,
   "metadata": {},
   "outputs": [
    {
     "ename": "ValueError",
     "evalue": "Found input variables with inconsistent numbers of samples: [459, 458]",
     "output_type": "error",
     "traceback": [
      "\u001b[1;31m---------------------------------------------------------------------------\u001b[0m",
      "\u001b[1;31mValueError\u001b[0m                                Traceback (most recent call last)",
      "\u001b[1;32m<ipython-input-30-36244812f9f5>\u001b[0m in \u001b[0;36m<module>\u001b[1;34m\u001b[0m\n\u001b[1;32m----> 1\u001b[1;33m \u001b[0mnba_train\u001b[0m\u001b[1;33m,\u001b[0m \u001b[0mnba_test\u001b[0m\u001b[1;33m,\u001b[0m \u001b[0mhof_train\u001b[0m\u001b[1;33m,\u001b[0m \u001b[0mhof_test\u001b[0m \u001b[1;33m=\u001b[0m \u001b[0mtrain_test_split\u001b[0m\u001b[1;33m(\u001b[0m\u001b[0mdata_norm\u001b[0m\u001b[1;33m,\u001b[0m \u001b[0my\u001b[0m\u001b[1;33m,\u001b[0m \u001b[0mtest_size\u001b[0m\u001b[1;33m=\u001b[0m\u001b[1;36m0.2\u001b[0m\u001b[1;33m,\u001b[0m \u001b[0mrandom_state\u001b[0m\u001b[1;33m=\u001b[0m\u001b[1;36m33\u001b[0m\u001b[1;33m)\u001b[0m\u001b[1;33m\u001b[0m\u001b[1;33m\u001b[0m\u001b[0m\n\u001b[0m",
      "\u001b[1;32m~\\Anaconda3\\lib\\site-packages\\sklearn\\model_selection\\_split.py\u001b[0m in \u001b[0;36mtrain_test_split\u001b[1;34m(*arrays, **options)\u001b[0m\n\u001b[0;32m   2094\u001b[0m         \u001b[1;32mraise\u001b[0m \u001b[0mTypeError\u001b[0m\u001b[1;33m(\u001b[0m\u001b[1;34m\"Invalid parameters passed: %s\"\u001b[0m \u001b[1;33m%\u001b[0m \u001b[0mstr\u001b[0m\u001b[1;33m(\u001b[0m\u001b[0moptions\u001b[0m\u001b[1;33m)\u001b[0m\u001b[1;33m)\u001b[0m\u001b[1;33m\u001b[0m\u001b[1;33m\u001b[0m\u001b[0m\n\u001b[0;32m   2095\u001b[0m \u001b[1;33m\u001b[0m\u001b[0m\n\u001b[1;32m-> 2096\u001b[1;33m     \u001b[0marrays\u001b[0m \u001b[1;33m=\u001b[0m \u001b[0mindexable\u001b[0m\u001b[1;33m(\u001b[0m\u001b[1;33m*\u001b[0m\u001b[0marrays\u001b[0m\u001b[1;33m)\u001b[0m\u001b[1;33m\u001b[0m\u001b[1;33m\u001b[0m\u001b[0m\n\u001b[0m\u001b[0;32m   2097\u001b[0m \u001b[1;33m\u001b[0m\u001b[0m\n\u001b[0;32m   2098\u001b[0m     \u001b[0mn_samples\u001b[0m \u001b[1;33m=\u001b[0m \u001b[0m_num_samples\u001b[0m\u001b[1;33m(\u001b[0m\u001b[0marrays\u001b[0m\u001b[1;33m[\u001b[0m\u001b[1;36m0\u001b[0m\u001b[1;33m]\u001b[0m\u001b[1;33m)\u001b[0m\u001b[1;33m\u001b[0m\u001b[1;33m\u001b[0m\u001b[0m\n",
      "\u001b[1;32m~\\Anaconda3\\lib\\site-packages\\sklearn\\utils\\validation.py\u001b[0m in \u001b[0;36mindexable\u001b[1;34m(*iterables)\u001b[0m\n\u001b[0;32m    228\u001b[0m         \u001b[1;32melse\u001b[0m\u001b[1;33m:\u001b[0m\u001b[1;33m\u001b[0m\u001b[1;33m\u001b[0m\u001b[0m\n\u001b[0;32m    229\u001b[0m             \u001b[0mresult\u001b[0m\u001b[1;33m.\u001b[0m\u001b[0mappend\u001b[0m\u001b[1;33m(\u001b[0m\u001b[0mnp\u001b[0m\u001b[1;33m.\u001b[0m\u001b[0marray\u001b[0m\u001b[1;33m(\u001b[0m\u001b[0mX\u001b[0m\u001b[1;33m)\u001b[0m\u001b[1;33m)\u001b[0m\u001b[1;33m\u001b[0m\u001b[1;33m\u001b[0m\u001b[0m\n\u001b[1;32m--> 230\u001b[1;33m     \u001b[0mcheck_consistent_length\u001b[0m\u001b[1;33m(\u001b[0m\u001b[1;33m*\u001b[0m\u001b[0mresult\u001b[0m\u001b[1;33m)\u001b[0m\u001b[1;33m\u001b[0m\u001b[1;33m\u001b[0m\u001b[0m\n\u001b[0m\u001b[0;32m    231\u001b[0m     \u001b[1;32mreturn\u001b[0m \u001b[0mresult\u001b[0m\u001b[1;33m\u001b[0m\u001b[1;33m\u001b[0m\u001b[0m\n\u001b[0;32m    232\u001b[0m \u001b[1;33m\u001b[0m\u001b[0m\n",
      "\u001b[1;32m~\\Anaconda3\\lib\\site-packages\\sklearn\\utils\\validation.py\u001b[0m in \u001b[0;36mcheck_consistent_length\u001b[1;34m(*arrays)\u001b[0m\n\u001b[0;32m    203\u001b[0m     \u001b[1;32mif\u001b[0m \u001b[0mlen\u001b[0m\u001b[1;33m(\u001b[0m\u001b[0muniques\u001b[0m\u001b[1;33m)\u001b[0m \u001b[1;33m>\u001b[0m \u001b[1;36m1\u001b[0m\u001b[1;33m:\u001b[0m\u001b[1;33m\u001b[0m\u001b[1;33m\u001b[0m\u001b[0m\n\u001b[0;32m    204\u001b[0m         raise ValueError(\"Found input variables with inconsistent numbers of\"\n\u001b[1;32m--> 205\u001b[1;33m                          \" samples: %r\" % [int(l) for l in lengths])\n\u001b[0m\u001b[0;32m    206\u001b[0m \u001b[1;33m\u001b[0m\u001b[0m\n\u001b[0;32m    207\u001b[0m \u001b[1;33m\u001b[0m\u001b[0m\n",
      "\u001b[1;31mValueError\u001b[0m: Found input variables with inconsistent numbers of samples: [459, 458]"
     ]
    }
   ],
   "source": [
    "nba_train, nba_test, hof_train, hof_test = train_test_split(data_norm, y, test_size=0.2, random_state=33)"
   ]
  },
  {
   "cell_type": "markdown",
   "metadata": {},
   "source": [
    "Below is function called \"kNN\" that will compare the results of k=1 to k=10"
   ]
  },
  {
   "cell_type": "code",
   "execution_count": null,
   "metadata": {},
   "outputs": [],
   "source": [
    "def kNN(x_train, y_train, x_test, y_test):\n",
    "    for i in range(1,11):\n",
    "        knnclf = neighbors.KNeighborsClassifier(i)\n",
    "        knnclf.fit(x_train, y_train)\n",
    "        knnpreds_test = knnclf.predict(x_test)\n",
    "        print(\"Results for {} neighbors: \".format(i))\n",
    "        print(\"Classification Report:\")\n",
    "        print(classification_report(y_test, knnpreds_test))\n",
    "        print(\"Confusion Matrix:\")\n",
    "        print(confusion_matrix(y_test, knnpreds_test))\n",
    "        print(\"\\n\")"
   ]
  },
  {
   "cell_type": "code",
   "execution_count": null,
   "metadata": {},
   "outputs": [],
   "source": [
    "kNN(nba_train, hof_train, nba_test, hof_test)"
   ]
  },
  {
   "cell_type": "markdown",
   "metadata": {},
   "source": [
    "k = 5 and k = 9 both gave the best results, misclassifying only 7 out of 92 in the test data. However, k = 5 did better at predicting \"1s\", or players that are in the Hall of Fame, so I will fit a new model with that value. I will display the confusion matrix, compute the scores on training on testign and perform cross validation."
   ]
  },
  {
   "cell_type": "code",
   "execution_count": null,
   "metadata": {},
   "outputs": [],
   "source": [
    "knnclf = neighbors.KNeighborsClassifier(5)\n",
    "knnclf.fit(nba_train, hof_train)\n",
    "\n",
    "knnpreds_test = knnclf.predict(nba_test)\n",
    "knncm = confusion_matrix(hof_test, knnpreds_test)\n",
    "print(knncm)"
   ]
  },
  {
   "cell_type": "code",
   "execution_count": null,
   "metadata": {},
   "outputs": [],
   "source": [
    "%matplotlib inline\n",
    "plt.matshow(knncm)\n",
    "plt.title('Confusion matrix')\n",
    "plt.colorbar()\n",
    "plt.ylabel('Actual')\n",
    "plt.xlabel('Predicted')\n",
    "plt.show()"
   ]
  },
  {
   "cell_type": "markdown",
   "metadata": {},
   "source": [
    "Above is a plot showing the results of the confusion matrix. It might look like the model performed poorly on predicting \"1s,\" but there are only a few players in the Hall of Fame in the testing data. "
   ]
  },
  {
   "cell_type": "code",
   "execution_count": null,
   "metadata": {},
   "outputs": [],
   "source": [
    "print (\"Score on Training: \", knnclf.score(nba_train, hof_train))\n",
    "print (\"Score on Test: \", knnclf.score(nba_test, hof_test))"
   ]
  },
  {
   "cell_type": "markdown",
   "metadata": {},
   "source": [
    "The model performed slightly better on the Test Data than on the Training, which is a good sign that there is no overfitting."
   ]
  },
  {
   "cell_type": "code",
   "execution_count": null,
   "metadata": {},
   "outputs": [],
   "source": [
    "cv_scores = model_selection.cross_val_score(knnclf, nba_train, hof_train, cv = 5)\n",
    "print(cv_scores)\n",
    "print(\"Overall Accuracy on X-Val: %0.2f (+/- %0.2f)\" % (cv_scores.mean(), cv_scores.std() * 2))"
   ]
  },
  {
   "cell_type": "markdown",
   "metadata": {},
   "source": [
    "The accuracy on Cross Validation gave similar results as the model without cross validation. So, it looks like the KNN model can accurately predict roughly 0.87 of the cases in the test data. Now I will compute predicted probabilities for the ineligible players."
   ]
  },
  {
   "cell_type": "code",
   "execution_count": null,
   "metadata": {},
   "outputs": [],
   "source": [
    "probs = knnclf.predict_proba(val)\n",
    "print(\"Probability of joining hall of fame: \")\n",
    "for i in range(len(validate_nn)):\n",
    "    print(\"{}: {}%\".format(players[i], probs[i, 1]*100))"
   ]
  },
  {
   "cell_type": "markdown",
   "metadata": {},
   "source": [
    "The KNN model gave us different results for the predicted probabilities. The probabilities are only 0%, 20%, 40%, 60%, 80% and 100%. Regardless of that, it performed fairly accurately. The players I would expect to be in the Hall of Fame, such as Tim Duncan, Kobe Bryant, Lebron James and Dwyane Wade all got probabilities of 80% or greater. "
   ]
  },
  {
   "cell_type": "markdown",
   "metadata": {},
   "source": [
    "Next, I will run PCA to attempt to reduce dimensionality, and then I will refit both the Logistic Regression Model and the KNN model on the new data. "
   ]
  },
  {
   "cell_type": "markdown",
   "metadata": {},
   "source": [
    "### Principal Component Analysis (PCA)"
   ]
  },
  {
   "cell_type": "markdown",
   "metadata": {},
   "source": [
    "The goal of PCA is to reduce the dimensionality of the data. Since there are only 20 some variables in the data after normalization, the size of the data is not too big of an issue. Regardless, I will perform PCA and then see if the results for Logistic Regression and KNN differ. I will need to run two different PCA models, one for the non-normalized data for Logistic Regression and one for the normalized data for KNN."
   ]
  },
  {
   "cell_type": "code",
   "execution_count": null,
   "metadata": {},
   "outputs": [],
   "source": [
    "pca = decomposition.PCA(n_components = 10)\n",
    "\n",
    "pca.fit_transform(data_naoi)\n",
    "\n",
    "var = pca.explained_variance_ratio_\n",
    "print(var)\n",
    "var[0] + var[1]"
   ]
  },
  {
   "cell_type": "markdown",
   "metadata": {},
   "source": [
    "For the non-normalized data, we can use only 2 components, as they explain over 99% of the variance in the data. "
   ]
  },
  {
   "cell_type": "code",
   "execution_count": null,
   "metadata": {},
   "outputs": [],
   "source": [
    "pca = decomposition.PCA(n_components = 2)\n",
    "naoi2 = pca.fit_transform(data_naoi)\n",
    "validate_nn2 = pca.fit_transform(validate_nn)"
   ]
  },
  {
   "cell_type": "markdown",
   "metadata": {},
   "source": [
    "\"naoi2\" is the new data created using 2 components to be used for Logistic Regression. "
   ]
  },
  {
   "cell_type": "code",
   "execution_count": null,
   "metadata": {},
   "outputs": [],
   "source": [
    "pca = decomposition.PCA(n_components = 10)\n",
    "\n",
    "pca.fit_transform(data_norm)\n",
    "\n",
    "var = pca.explained_variance_ratio_\n",
    "print(var)\n",
    "sum(var)"
   ]
  },
  {
   "cell_type": "markdown",
   "metadata": {},
   "source": [
    "For the normalized data, I need to use 10 components in order to explain 95% of the variance."
   ]
  },
  {
   "cell_type": "code",
   "execution_count": null,
   "metadata": {},
   "outputs": [],
   "source": [
    "pca = decomposition.PCA(n_components = 10)\n",
    "data2 = pca.fit_transform(data_norm)   \n",
    "val2 = pca.fit_transform(val)"
   ]
  },
  {
   "cell_type": "markdown",
   "metadata": {},
   "source": [
    "\"data2\" is the new data created using 10 components to be used for KNN. "
   ]
  },
  {
   "cell_type": "markdown",
   "metadata": {},
   "source": [
    "### Logistic Regression on PCA Components "
   ]
  },
  {
   "cell_type": "markdown",
   "metadata": {},
   "source": [
    "I will now repeat all of the steps in the original Logistic Regression section on the PCA data."
   ]
  },
  {
   "cell_type": "code",
   "execution_count": null,
   "metadata": {},
   "outputs": [],
   "source": [
    "nba_train, nba_test, hof_train, hof_test = train_test_split(naoi2, y, test_size=0.2, random_state=33)"
   ]
  },
  {
   "cell_type": "code",
   "execution_count": null,
   "metadata": {},
   "outputs": [],
   "source": [
    "lr = LogisticRegression()\n",
    "\n",
    "lr.fit(nba_train, hof_train)"
   ]
  },
  {
   "cell_type": "code",
   "execution_count": null,
   "metadata": {},
   "outputs": [],
   "source": [
    "coef = lr.coef_\n",
    "\n",
    "for i in range(2):\n",
    "    print(\"Component {}: {:0.3f}\".format(i, coef[0, i]))\n",
    "print(\"\\n\")\n",
    "print(lr.intercept_)"
   ]
  },
  {
   "cell_type": "markdown",
   "metadata": {},
   "source": [
    "Above we see the coefficients for each of the components and then the intercept. It looks like component 2 has a larger impact on the model."
   ]
  },
  {
   "cell_type": "code",
   "execution_count": null,
   "metadata": {},
   "outputs": [],
   "source": [
    "y_pred = lr.predict(nba_test)\n",
    "\n",
    "lr_cm = confusion_matrix(hof_test, y_pred)\n",
    "print(lr_cm)"
   ]
  },
  {
   "cell_type": "markdown",
   "metadata": {},
   "source": [
    "Above is the confusion matrix. We can see that the model accurately predicted 86 out of the 92 of the observations in the testing data. "
   ]
  },
  {
   "cell_type": "code",
   "execution_count": null,
   "metadata": {},
   "outputs": [],
   "source": [
    "acc = (lr_cm[0,0] + lr_cm[1,1]) / (lr_cm[0,0] + lr_cm[0,1] + lr_cm[1,0]+ lr_cm[1,1])\n",
    "print(\"The Overall Accuracy is: {:0.2f}%\".format(acc*100))"
   ]
  },
  {
   "cell_type": "markdown",
   "metadata": {},
   "source": [
    "I got the same Overall Accuracy on this model as the original Logistic Regression Model, however the Original model performed better at classifying \"1s,\" as it only misclassified 2 observations compared to 3 in this model."
   ]
  },
  {
   "cell_type": "code",
   "execution_count": null,
   "metadata": {},
   "outputs": [],
   "source": [
    "probs = lr.predict_proba(validate_nn2)\n",
    "\n",
    "print(\"Probability of joining hall of fame: \")\n",
    "for i in range(len(validate_nn)):\n",
    "    print(\"{}: {:0.3f}%\".format(players[i], probs[i, 1]*100))"
   ]
  },
  {
   "cell_type": "markdown",
   "metadata": {},
   "source": [
    "Besides Dirk Nowitzki and Vince Carter having high probabilities, these results do not make very much sense. It might be because I transformed the data (data_naoi) and the ineligible players (validate_nn) separately. They are transformed on the same PCA model, so maybe this model just performs poorly on predicting these players."
   ]
  },
  {
   "cell_type": "markdown",
   "metadata": {},
   "source": [
    "### KNN on PCA Components "
   ]
  },
  {
   "cell_type": "markdown",
   "metadata": {},
   "source": [
    "I will now repeat all of the steps in the original KNN on section on the PCA data."
   ]
  },
  {
   "cell_type": "code",
   "execution_count": null,
   "metadata": {},
   "outputs": [],
   "source": [
    "nba_train, nba_test, hof_train, hof_test = train_test_split(data2, y, test_size=0.2, random_state=33)\n",
    "\n",
    "kNN(nba_train, hof_train, nba_test, hof_test)"
   ]
  },
  {
   "cell_type": "markdown",
   "metadata": {},
   "source": [
    "k = 1 and k =2 both only misclassified 6 out of the 92 observations in the testing data. However, k = 1 performed better at classifying \"1s,\" so I will create a model with k = 1, report the confusion matrix, the scores on training and testing and perform cross validation."
   ]
  },
  {
   "cell_type": "code",
   "execution_count": null,
   "metadata": {},
   "outputs": [],
   "source": [
    "knnclf = neighbors.KNeighborsClassifier(1)\n",
    "knnclf.fit(nba_train, hof_train)\n",
    "\n",
    "knnpreds_test = knnclf.predict(nba_test)\n",
    "knncm = confusion_matrix(hof_test, knnpreds_test)\n",
    "print(knncm)"
   ]
  },
  {
   "cell_type": "code",
   "execution_count": null,
   "metadata": {},
   "outputs": [],
   "source": [
    "%matplotlib inline\n",
    "plt.matshow(knncm)\n",
    "plt.title('Confusion matrix')\n",
    "plt.colorbar()\n",
    "plt.ylabel('Actual')\n",
    "plt.xlabel('Predicted')\n",
    "plt.show()"
   ]
  },
  {
   "cell_type": "code",
   "execution_count": null,
   "metadata": {},
   "outputs": [],
   "source": [
    "print (\"Score on Training: \", knnclf.score(nba_train, hof_train))\n",
    "print (\"Score on Test: \", knnclf.score(nba_test, hof_test))"
   ]
  },
  {
   "cell_type": "markdown",
   "metadata": {},
   "source": [
    "The score on the test data is slightly higher than the score from the original KNN model (0.924). However, the score on the training data is 1.0 here, maybe implying an issue with overfitting."
   ]
  },
  {
   "cell_type": "code",
   "execution_count": null,
   "metadata": {},
   "outputs": [],
   "source": [
    "cv_scores = model_selection.cross_val_score(knnclf, nba_train, hof_train, cv = 5)\n",
    "print(cv_scores)\n",
    "print(\"Overall Accuracy on X-Val: %0.2f (+/- %0.2f)\" % (cv_scores.mean(), cv_scores.std() * 2))"
   ]
  },
  {
   "cell_type": "markdown",
   "metadata": {},
   "source": [
    "The original KNN model gave us an accuracy on cross validation of 0.87 +/- 0.4, so this model performed slighlty worse. "
   ]
  },
  {
   "cell_type": "code",
   "execution_count": null,
   "metadata": {},
   "outputs": [],
   "source": [
    "probs = knnclf.predict_proba(val2)\n",
    "print(\"Probability of joining hall of fame: \")\n",
    "for i in range(len(validate_nn)):\n",
    "    print(\"{}: {}%\".format(players[i], probs[i, 1]*100))"
   ]
  },
  {
   "cell_type": "markdown",
   "metadata": {},
   "source": [
    "These predicted probabilities make no sense. It might be because I transformed the data (data_norm) and the ineligible players (val) separately. They are transformed on the same PCA model, so maybe this model just performs poorly on predicting these players."
   ]
  },
  {
   "cell_type": "markdown",
   "metadata": {},
   "source": [
    "### Discussion / Future Work"
   ]
  },
  {
   "cell_type": "markdown",
   "metadata": {},
   "source": [
    "Overall, all the models performed much better than I expected. I believed that things such as number of Finals won, number of All-Star Games, number of MVPS won and other metrics outside of game stats were of high importance when considering whether to vote a player into the Hall of Fame. This does not seem to be the case, however. The original Logistic Regression model gave an accuracy of 93.48% and performed quite well when predicting probabilities of active/players who have not been retired for 3 seasons entering the Hall of Fame. After running PCA on the data and refitting the Logistic Regression model on the component data, I got the same accuracy as before running PCA. However, the predicted probabilities made no sense with this model. The KNN Model performed quite well also, with a score on Cross Validation of 0.87 +/- 0.4 using k = 5. I tested k=1 to k=10, and the worst model of those still accurately predicted 80 out of the 92 observations in the testing data. The score on the test data was slightly higher than the score on the training data, with both being greater than 0.915. This model gave fairly accurate predictions for players not eligible for the Hall of Fame as well. After running PCA on the data and refitting the KNN model on the component data, I got similar results. Using k=1 to k=10, the worst model accurately predicted 83 out of the 92 observations in the test data. K = 1 was determined to be the best model, and a cross validation on this model gave us a score of 0.85 +/- 0.5, which is only slightly worse than the original KNN model. This model performed poorly on predicted probabilities of entering the Hall of Fame for currently ineligible players, however. \n",
    "\n",
    "All of the models I created gave accuracy scores between 85% and 93.48%, which is far better than I expected. The only major issue I ran into is that both the Logistic Regression and KNN models performed very poorly when used to predict probabilities of entering the Hall of Fame for currently ineligible players. As I stated above, this might be because the data were transformed separately, but since they were transformed on the same PCA model, I would assume that this would not create an issue.\n",
    "\n",
    "There are a few things I could change if I were to continue to work on this project. First, I could add things such as MVP, Finals appearances, etc. to the model to see how it affects performance. This would require lots of manual data entry or to write a web scraping function to get this information on various accolades from the internet. This was outside of the scope of this course and would require lots of hours spent on it. I could also add more retired players in the dataset as well, which could be done manually or by web scraping as well. I could also create more models, such as Naive Bayes and K-Means clustering and compare the results to those obtained in this project"
   ]
  },
  {
   "cell_type": "markdown",
   "metadata": {},
   "source": [
    "### Appendix"
   ]
  },
  {
   "cell_type": "markdown",
   "metadata": {},
   "source": [
    "#### List of files included in this project:\n",
    "\n",
    "Final Project.ipynb (this file)\n",
    "\n",
    "FinalProject.html\n",
    "\n",
    "summary.docx  (Executive Summary)\n",
    "\n",
    "final.py (contains all of the code used)\n",
    "\n",
    "nba.csv (data used)\n",
    "\n",
    "\n",
    "#### Links to various resources used:\n",
    "\n",
    "https://www.basketball-reference.com/awards/slam_500_greatest.html (where I got the original data from)\n",
    "\n",
    "https://www.basketball-reference.com/ (used to find the position for each player)\n",
    "\n",
    "https://www.landofbasketball.com/hall_of_fame/hall_of_famers_by_year.htm (used to create list of players in Hall of Fame)\n",
    "\n",
    "\n",
    "#### List of all Packages used is included right after the Introduction"
   ]
  }
 ],
 "metadata": {
  "kernelspec": {
   "display_name": "Python 3",
   "language": "python",
   "name": "python3"
  },
  "language_info": {
   "codemirror_mode": {
    "name": "ipython",
    "version": 3
   },
   "file_extension": ".py",
   "mimetype": "text/x-python",
   "name": "python",
   "nbconvert_exporter": "python",
   "pygments_lexer": "ipython3",
   "version": "3.7.3"
  }
 },
 "nbformat": 4,
 "nbformat_minor": 2
}
